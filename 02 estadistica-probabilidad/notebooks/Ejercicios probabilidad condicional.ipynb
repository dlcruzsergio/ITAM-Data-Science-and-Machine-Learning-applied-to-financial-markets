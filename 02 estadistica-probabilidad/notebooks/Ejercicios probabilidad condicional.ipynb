{
 "cells": [
  {
   "cell_type": "markdown",
   "metadata": {},
   "source": [
    "# Ejercicios de probabilidad condicional\n",
    "\n",
    "## Ejercicio 1\n",
    "Supongamos que tenemos dos monedas idénticas y perfectamente balanceadas.\n",
    "Si se lanza cada moneda una vez, encuentre:\n",
    "\n",
    "a) La probabilidad de que ambas monedas muestren **cara**, dado que la primera muestra **cara**.\n",
    "\n",
    "b) La probabilidad de que ambas monedas muestren **cara**, dado que al menos una de ellas muestra **cara**"
   ]
  },
  {
   "cell_type": "code",
   "execution_count": null,
   "metadata": {},
   "outputs": [],
   "source": [
    "import numpy as np\n",
    "#inciso a\n",
    "\n",
    "#Se generan varias repeticiones del experimento\n",
    "n = int(1e6)\n",
    "resultados = np.random.choice(['cara','cruz'], size = (n,2))\n",
    "\n",
    "#Se obtienen los experimentos en los cuales la primera moneda es cara\n",
    "condicional = resultados[resultados[:,0] == 'cara']\n",
    "\n",
    "#Se obtienen los experimentos en donde las dos monedas son cara\n",
    "ambas_cara = resultados[np.logical_and(resultados[:,0] == 'cara',\n",
    "                                      resultados[:,1] == 'cara')]\n",
    "\n",
    "#Calcula la probabilidad condicional\n",
    "proba = ambas_cara.shape[0] / condicional.shape[0]\n",
    "print('La probabilidad condicional es', round(proba,2))"
   ]
  },
  {
   "cell_type": "code",
   "execution_count": null,
   "metadata": {},
   "outputs": [],
   "source": [
    "# inciso b\n",
    "#Se obtienen los experimentos en los cuales al menos una moneda es cara\n",
    "aux = np.logical_or(resultados[:,0] == 'cara',\n",
    "                                      resultados[:,1] == 'cara')\n",
    "condicional = resultados[aux]\n",
    "\n",
    "#Calcula la probabilidad condicional\n",
    "proba = ambas_cara.shape[0] / condicional.shape[0]\n",
    "print('La probabilidad condicional es', round(proba,2))\n"
   ]
  },
  {
   "cell_type": "markdown",
   "metadata": {},
   "source": [
    "## Ejercicio 2\n",
    "Si un punto en $\\mathbb{R}^2$, dentro del cuadrado unitario $C = \\{(x,y): (x,y) \\in [0,1] \\times[0,1]  \\}$ se selecciona al azar y se sabe que está dentro de la región triangular acotada por $x = 0, y = 0, x + y = 1$, encuentre la probabilidad de que este punto también se encuentre dentro del triángulo acotado por $y = 0, x = 1, x = y$."
   ]
  },
  {
   "cell_type": "code",
   "execution_count": null,
   "metadata": {},
   "outputs": [],
   "source": [
    "#simula los puntos dentro del cuadrado unitario\n",
    "n = int(1e6)\n",
    "puntos = np.random.uniform(0, 1, size = (n, 2))\n",
    "\n",
    "#Localiza los puntos dentro del triángulo 1 (y <= 1 - x)\n",
    "triangulo1 = puntos[puntos[:,1] <= 1 - puntos[:,0]]\n",
    "\n",
    "#Localiza los puntos dentro del triángulo 2 (y <= 1 - x and y <= x)\n",
    "aux = np.logical_and(puntos[:,1] <= 1 - puntos[:,0], \n",
    "                    puntos[:,1] <= puntos[:,0])\n",
    "triangulo2 = puntos[aux]\n",
    "\n",
    "#Calcula la probabilidad\n",
    "proba = triangulo2.shape[0] / triangulo1.shape[0]\n",
    "print('La probabilidad es', round(proba,2))"
   ]
  },
  {
   "cell_type": "code",
   "execution_count": null,
   "metadata": {},
   "outputs": [],
   "source": []
  },
  {
   "cell_type": "markdown",
   "metadata": {},
   "source": [
    "## Ejercicio 3\n",
    "Supongamos que tenemos una moneda $A$ que cae en cara con probabilidad $s$ y una moneda $B$ que cae en cara con probabilidad $t$. Si cada moneda se tira de manera alternada, empezando con la moneda $A$, ¿cuál es la probilidad de que la primera cara se obtenga con la moneda $A$?\n",
    "\n",
    "Considere $s = 0.4$ y $t = .5$\n",
    "\n",
    "¿Qué puede concluir?"
   ]
  },
  {
   "cell_type": "code",
   "execution_count": null,
   "metadata": {},
   "outputs": [],
   "source": [
    "import numpy as np\n",
    "\n",
    "#número de simulaciones\n",
    "n_sim = int(1e3)\n",
    "\n",
    "#número de tiros por simulación\n",
    "n_tiros = 100\n",
    "\n",
    "#contador de casos de éxito (la moneda A es cara)\n",
    "cont_exitos = 0\n",
    "\n",
    "#probabilidades de cara para cada moneda\n",
    "s = 0.4\n",
    "t = 0.5\n",
    "\n",
    "for i in range(n_sim):\n",
    "    #Se empieza tirando la moneda A\n",
    "    moneda = 'A'\n",
    "    \n",
    "    #Boolean para saber si no ha salido ningua cara\n",
    "    bool_primera_cara = False\n",
    "    \n",
    "    for j in range(n_tiros):\n",
    "        \n",
    "        #se realiza lanzamiento\n",
    "        if moneda == 'A':\n",
    "            resultado = np.random.choice(['cara','cruz'], size = 1, p = [s, 1 - s])\n",
    "        else:\n",
    "            resultado = np.random.choice(['cara','cruz'], size = 1, p = [t, 1 - t])\n",
    "        \n",
    "        #se revisa la cara obtenida\n",
    "        if moneda == 'A' and resultado[0] == 'cara':\n",
    "            cont_exitos = cont_exitos + 1\n",
    "            break #siguiente simulación\n",
    "        elif moneda == 'B' and resultado[0] == 'cara':\n",
    "            break #siguiente simulación\n",
    "            \n",
    "        if moneda == 'A':\n",
    "            moneda = 'B'\n",
    "        else:\n",
    "            moneda = 'A'\n",
    "\n",
    "#Estima probabilidad\n",
    "proba = cont_exitos / n_sim\n",
    "\n",
    "print('La probabilidad es', round(proba, 2))\n",
    "\n"
   ]
  },
  {
   "cell_type": "code",
   "execution_count": null,
   "metadata": {},
   "outputs": [],
   "source": []
  }
 ],
 "metadata": {
  "kernelspec": {
   "display_name": "Python 3",
   "language": "python",
   "name": "python3"
  },
  "language_info": {
   "codemirror_mode": {
    "name": "ipython",
    "version": 3
   },
   "file_extension": ".py",
   "mimetype": "text/x-python",
   "name": "python",
   "nbconvert_exporter": "python",
   "pygments_lexer": "ipython3",
   "version": "3.7.3"
  }
 },
 "nbformat": 4,
 "nbformat_minor": 2
}
