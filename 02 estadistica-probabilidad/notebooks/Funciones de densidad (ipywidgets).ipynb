{
 "cells": [
  {
   "cell_type": "code",
   "execution_count": 1,
   "metadata": {},
   "outputs": [],
   "source": [
    "#Se importa lo relativo a ipywidgets\n",
    "from ipywidgets import interact, interactive, fixed, interact_manual\n",
    "import ipywidgets as widgets\n",
    "\n",
    "#Todo lo relacionado a matplotlib\n",
    "import matplotlib.pyplot as plt\n",
    "\n",
    "#Distribuciones de scipy.stats\n",
    "from scipy.stats import binom\n",
    "from scipy.stats import norm\n",
    "\n",
    "import numpy as np"
   ]
  },
  {
   "cell_type": "markdown",
   "metadata": {},
   "source": [
    "# Distribución Binomial"
   ]
  },
  {
   "cell_type": "code",
   "execution_count": 2,
   "metadata": {},
   "outputs": [],
   "source": [
    "def grafica_binomial(n = 10, p = 0.5):\n",
    "    '''\n",
    "    Función para graficar la función de densidad de una distribución binomial\n",
    "    \n",
    "    ENTRADA\n",
    "    n: Entero positivo que representa en número de ensayos\n",
    "    p: Float en [0,1] que representa la probabilidad de éxito\n",
    "    \n",
    "    SALIDA\n",
    "    gráfica de la función de densidad\n",
    "    '''\n",
    "    \n",
    "    #Eje x\n",
    "    #Soporte de la variable es {0,1, ..., n}\n",
    "    x = list(range(0, n + 1, 1))\n",
    "    \n",
    "    #Eje y\n",
    "    y = binom.pmf(k = x, n = n, p = p)\n",
    "    \n",
    "    #Cálculo del sesgo\n",
    "    sesgo = (1 - 2*p) / binom.std(n = n, p = p)\n",
    "    \n",
    "    #Crea la gráfica\n",
    "    plt.bar(x, y) #Gráfica de barras\n",
    "    plt.xticks(x, rotation = 90)\n",
    "    plt.xlabel('Número de éxitos') #Título eje x\n",
    "    plt.ylabel('Probabilidad') # Título eje y\n",
    "    plt.title('Sesgo = ' + str (round(sesgo, 2)))\n",
    "    plt.show()\n",
    "    "
   ]
  },
  {
   "cell_type": "code",
   "execution_count": 3,
   "metadata": {},
   "outputs": [
    {
     "data": {
      "application/vnd.jupyter.widget-view+json": {
       "model_id": "0008bf72036e4cb099fc2e27e68c0bc5",
       "version_major": 2,
       "version_minor": 0
      },
      "text/plain": [
       "interactive(children=(IntSlider(value=10, description='n'), FloatSlider(value=0.5, description='p', max=1.0, m…"
      ]
     },
     "metadata": {},
     "output_type": "display_data"
    },
    {
     "data": {
      "text/plain": [
       "<function __main__.grafica_binomial(n=10, p=0.5)>"
      ]
     },
     "execution_count": 3,
     "metadata": {},
     "output_type": "execute_result"
    }
   ],
   "source": [
    "#Con esta forma de utilizar interact se actualiza de forma continua\n",
    "#NO ES IDEAL PARA FUNCIONES QUE TOMAN MUCHO TIEMPO EN CALCULAR SU SALIDA!!!\n",
    "interact(grafica_binomial, n = (0, 100), p = (0.0001, 1, 0.01))"
   ]
  },
  {
   "cell_type": "code",
   "execution_count": 4,
   "metadata": {},
   "outputs": [
    {
     "data": {
      "application/vnd.jupyter.widget-view+json": {
       "model_id": "dc082bbfe9f2410b95062120c0663159",
       "version_major": 2,
       "version_minor": 0
      },
      "text/plain": [
       "interactive(children=(IntSlider(value=10, description='n'), FloatSlider(value=0.5, description='p', max=1.0, m…"
      ]
     },
     "metadata": {},
     "output_type": "display_data"
    },
    {
     "data": {
      "text/plain": [
       "<function __main__.grafica_binomial(n=10, p=0.5)>"
      ]
     },
     "execution_count": 4,
     "metadata": {},
     "output_type": "execute_result"
    }
   ],
   "source": [
    "#Interact_manual evita una actualización continua, sin embargo, para actualizar\n",
    "#la gráfica debemos de dar click en el botón Run Interact\n",
    "interact_manual(grafica_binomial, n = (0, 100), p = (0.0001, 1, 0.01))"
   ]
  },
  {
   "cell_type": "code",
   "execution_count": 5,
   "metadata": {},
   "outputs": [
    {
     "data": {
      "application/vnd.jupyter.widget-view+json": {
       "model_id": "ba93cf9652444c0599c5708986809696",
       "version_major": 2,
       "version_minor": 0
      },
      "text/plain": [
       "interactive(children=(IntSlider(value=0, continuous_update=False, description='n', max=50), FloatSlider(value=…"
      ]
     },
     "metadata": {},
     "output_type": "display_data"
    },
    {
     "data": {
      "text/plain": [
       "<function __main__.grafica_binomial(n=10, p=0.5)>"
      ]
     },
     "execution_count": 5,
     "metadata": {},
     "output_type": "execute_result"
    }
   ],
   "source": [
    "#Para poder actualizar la gráfica cada vez se suelta el botón del mouse\n",
    "#se pueden utilizar sliders con el parámetro continuous_update = False\n",
    "n_slider = widgets.IntSlider(min = 0, max = 50, step = 1, continuous_update = False)\n",
    "p_slider = widgets.FloatSlider(min = 0.0001, max = 1, step = 0.01, continuous_update = False)\n",
    "interact(grafica_binomial, n = n_slider, p = p_slider)"
   ]
  },
  {
   "cell_type": "markdown",
   "metadata": {},
   "source": [
    "# Ejercicio\n",
    "Programe un gráfico interactivo que muestre el comportamiento de la distribución normal de acuerdo\n",
    "a sus parámetros $\\mu, \\sigma$.\n",
    "\n",
    "$$\\mu \\in [-4,4]$$\n",
    "$$\\sigma \\in [0.001,3]$$\n"
   ]
  },
  {
   "cell_type": "code",
   "execution_count": 6,
   "metadata": {},
   "outputs": [],
   "source": [
    "def grafica_normal(mu = 0, sig = 1):\n",
    "    '''\n",
    "    Función para graficar la densidad de una distribución normal\n",
    "    \n",
    "    ENTRADA\n",
    "    mu: Float que representa la media de la distribución\n",
    "    \n",
    "    sig: Float > 0 que representa la desviación estándar.\n",
    "    \n",
    "    SALIDA\n",
    "    gráfica de la densidad.\n",
    "    '''\n",
    "    \n",
    "    #Eje x\n",
    "    x = np.linspace(-5,5, 200)\n",
    "    \n",
    "    #Eje y\n",
    "    y = norm.pdf(x, loc = mu, scale = sig)\n",
    "    \n",
    "    #Crea la gráfica\n",
    "    plt.plot(x,y, '-r')\n",
    "    plt.xlabel('x')\n",
    "    plt.ylabel('f(x)')\n",
    "    #área bajo la curva\n",
    "    #Color en RGBA\n",
    "    plt.fill_between(x = x, y1 = 0, y2 = y, color = (31.0 / 255, 239.0 / 255, 232.0 / 255, 0.5))\n",
    "    plt.show()"
   ]
  },
  {
   "cell_type": "code",
   "execution_count": 34,
   "metadata": {},
   "outputs": [
    {
     "data": {
      "application/vnd.jupyter.widget-view+json": {
       "model_id": "e7a2fd9f4e0243a9b04c6f97a7887969",
       "version_major": 2,
       "version_minor": 0
      },
      "text/plain": [
       "interactive(children=(FloatSlider(value=0.0, continuous_update=False, description='mu', max=4.0, min=-4.0, ste…"
      ]
     },
     "metadata": {},
     "output_type": "display_data"
    },
    {
     "data": {
      "text/plain": [
       "<function __main__.grafica_normal(mu=0, sig=1)>"
      ]
     },
     "execution_count": 34,
     "metadata": {},
     "output_type": "execute_result"
    }
   ],
   "source": [
    "mu_slider = widgets.FloatSlider(min = -4, max = 4, step = 0.5, continuous_update = False)\n",
    "sig_slider = widgets.FloatSlider(min = 0.001, max = 3, step = 0.001, continuous_update = False)\n",
    "interact(grafica_normal, mu = mu_slider, sig = sig_slider)"
   ]
  },
  {
   "cell_type": "code",
   "execution_count": null,
   "metadata": {},
   "outputs": [],
   "source": []
  },
  {
   "cell_type": "code",
   "execution_count": null,
   "metadata": {},
   "outputs": [],
   "source": []
  },
  {
   "cell_type": "code",
   "execution_count": 39,
   "metadata": {},
   "outputs": [
    {
     "data": {
      "image/png": "[encoded data removed]",
      "text/plain": [
       "<Figure size 432x288 with 1 Axes>"
      ]
     },
     "metadata": {
      "needs_background": "light"
     },
     "output_type": "display_data"
    }
   ],
   "source": [
    "#Eje x\n",
    "x = np.linspace(-5,5, 200)\n",
    "\n",
    "#Eje y\n",
    "y = norm.pdf(x, loc = 0, scale = 1)\n",
    "    \n",
    "#Crea la gráfica\n",
    "plt.plot(x,y, '-r')\n",
    "plt.xlabel('x')\n",
    "plt.ylabel('f(x)')\n",
    "#área bajo la curva\n",
    "#Color en RGBA\n",
    "plt.fill_between(x = x, y1 = 0, y2 = y, color = (31.0 / 255, 239.0 / 255, 232.0 / 255, 0.5))\n",
    "plt.show()"
   ]
  },
  {
   "cell_type": "code",
   "execution_count": null,
   "metadata": {},
   "outputs": [],
   "source": []
  },
  {
   "cell_type": "code",
   "execution_count": null,
   "metadata": {},
   "outputs": [],
   "source": []
  },
  {
   "cell_type": "code",
   "execution_count": null,
   "metadata": {},
   "outputs": [],
   "source": []
  },
  {
   "cell_type": "code",
   "execution_count": 85,
   "metadata": {},
   "outputs": [
    {
     "ename": "ValueError",
     "evalue": "probabilities are not non-negative",
     "output_type": "error",
     "traceback": [
      "\u001b[0;31m---------------------------------------------------------------------------\u001b[0m",
      "\u001b[0;31mValueError\u001b[0m                                Traceback (most recent call last)",
      "\u001b[0;32m<ipython-input-85-fac18a234231>\u001b[0m in \u001b[0;36m<module>\u001b[0;34m\u001b[0m\n\u001b[1;32m     14\u001b[0m \u001b[0;34m\u001b[0m\u001b[0m\n\u001b[1;32m     15\u001b[0m \u001b[0;32mfor\u001b[0m \u001b[0mi\u001b[0m \u001b[0;32min\u001b[0m \u001b[0mrange\u001b[0m\u001b[0;34m(\u001b[0m\u001b[0;36m0\u001b[0m\u001b[0;34m,\u001b[0m \u001b[0mlen\u001b[0m\u001b[0;34m(\u001b[0m\u001b[0mp\u001b[0m\u001b[0;34m)\u001b[0m\u001b[0;34m)\u001b[0m\u001b[0;34m:\u001b[0m\u001b[0;34m\u001b[0m\u001b[0;34m\u001b[0m\u001b[0m\n\u001b[0;32m---> 16\u001b[0;31m     \u001b[0marray_pro\u001b[0m \u001b[0;34m=\u001b[0m \u001b[0mnp\u001b[0m\u001b[0;34m.\u001b[0m\u001b[0mrandom\u001b[0m\u001b[0;34m.\u001b[0m\u001b[0mchoice\u001b[0m\u001b[0;34m(\u001b[0m\u001b[0;34m[\u001b[0m\u001b[0;36m1\u001b[0m\u001b[0;34m,\u001b[0m\u001b[0;36m0\u001b[0m\u001b[0;34m]\u001b[0m\u001b[0;34m,\u001b[0m \u001b[0msize\u001b[0m\u001b[0;34m=\u001b[0m\u001b[0;34m(\u001b[0m\u001b[0;34m)\u001b[0m\u001b[0;34m,\u001b[0m \u001b[0mp\u001b[0m\u001b[0;34m=\u001b[0m\u001b[0;34m[\u001b[0m\u001b[0mi\u001b[0m\u001b[0;34m,\u001b[0m\u001b[0;36m1\u001b[0m\u001b[0;34m-\u001b[0m\u001b[0mi\u001b[0m\u001b[0;34m]\u001b[0m\u001b[0;34m)\u001b[0m\u001b[0;34m\u001b[0m\u001b[0;34m\u001b[0m\u001b[0m\n\u001b[0m\u001b[1;32m     17\u001b[0m \u001b[0;34m\u001b[0m\u001b[0m\n\u001b[1;32m     18\u001b[0m \u001b[0;31m#np.random.choice(['aguila','sol'], size = len(pro), p = pro)\u001b[0m\u001b[0;34m\u001b[0m\u001b[0;34m\u001b[0m\u001b[0;34m\u001b[0m\u001b[0m\n",
      "\u001b[0;32mmtrand.pyx\u001b[0m in \u001b[0;36mmtrand.RandomState.choice\u001b[0;34m()\u001b[0m\n",
      "\u001b[0;31mValueError\u001b[0m: probabilities are not non-negative"
     ]
    }
   ],
   "source": [
    "import numpy as np\n",
    "import matplotlib\n",
    "\n",
    "np.random.seed(54321)\n",
    "\n",
    "#Número de simulaciones\n",
    "n_sim = int(1e5)\n",
    "\n",
    "#Array de probabilidades\n",
    "p = np.arange(1, 100, 1)/100\n",
    "p = np.linspace(0.01, 0.99, 99)\n",
    "\n",
    "prob = []\n",
    "\n",
    "for i in range(0, len(p)):\n",
    "    array_pro = np.random.choice([1,0], size=(), p=[i,1-i])\n",
    "\n",
    "#np.random.choice(['aguila','sol'], size = len(pro), p = pro)"
   ]
  },
  {
   "cell_type": "code",
   "execution_count": 41,
   "metadata": {},
   "outputs": [],
   "source": []
  },
  {
   "cell_type": "code",
   "execution_count": null,
   "metadata": {},
   "outputs": [],
   "source": [
    "np.random.seed(54321)\n",
    "\n",
    "#Número de simulaciones\n",
    "n_sim = int(1e5)\n",
    "\n"
   ]
  }
 ],
 "metadata": {
  "kernelspec": {
   "display_name": "Python 3",
   "language": "python",
   "name": "python3"
  },
  "language_info": {
   "codemirror_mode": {
    "name": "ipython",
    "version": 3
   },
   "file_extension": ".py",
   "mimetype": "text/x-python",
   "name": "python",
   "nbconvert_exporter": "python",
   "pygments_lexer": "ipython3",
   "version": "3.7.3"
  }
 },
 "nbformat": 4,
 "nbformat_minor": 2
}
