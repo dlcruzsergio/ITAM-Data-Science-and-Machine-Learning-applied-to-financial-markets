{
 "cells": [
  {
   "cell_type": "markdown",
   "metadata": {},
   "source": [
    "<h1 style=\"color:#872325\">DecisionTreeClassifier para test_precision y test_recall</h1>\n",
    "<h3>Sergio de la Cruz Badillo, dlcruzser12@gmail.com</h3>"
   ]
  },
  {
   "cell_type": "markdown",
   "metadata": {},
   "source": [
    "<h3>Import libraries</h3>"
   ]
  },
  {
   "cell_type": "code",
   "execution_count": 16,
   "metadata": {},
   "outputs": [],
   "source": [
    "from sklearn.tree import DecisionTreeClassifier\n",
    "from sklearn.datasets import make_moons\n",
    "from sklearn.model_selection import cross_validate, train_test_split"
   ]
  },
  {
   "cell_type": "markdown",
   "metadata": {},
   "source": [
    "<h3>Algorithm, code</h3>"
   ]
  },
  {
   "cell_type": "code",
   "execution_count": 17,
   "metadata": {},
   "outputs": [
    {
     "name": "stdout",
     "output_type": "stream",
     "text": [
      "1.7112379747829998 como la suma de test_precision y test_recall donde depth es 7 y se tienen 3 cortes\n"
     ]
    }
   ],
   "source": [
    "X, y = make_moons(n_samples=10_000, noise=0.4, random_state=25)\n",
    "x_train, x_test, y_train, ytest = train_test_split(X, y,test_size=0.2, random_state=314)\n",
    "\n",
    "max_depth, max_cv, resultado = 0, 0, 0\n",
    "max_num = 8\n",
    "init_num = 1\n",
    "\n",
    "for i in range(init_num, max_num):\n",
    "    for j in range(init_num+1, max_num):\n",
    "        cv = cross_validate(\n",
    "            DecisionTreeClassifier(criterion=\"gini\", max_depth=i, random_state=314), \n",
    "            x_train, \n",
    "            y_train, \n",
    "            cv=j, \n",
    "            scoring=[\"precision\", \"recall\"],\n",
    "            return_train_score=True)\n",
    "        \n",
    "        if cv[\"test_precision\"].mean() + cv[\"test_recall\"].mean() > resultado:\n",
    "            resultado = cv[\"test_precision\"].mean() + cv[\"test_recall\"].mean()\n",
    "            max_depth = i\n",
    "            max_cv = j\n",
    "            \n",
    "print(\"{} como la suma de test_precision y test_recall donde depth es {} y se tienen {} cortes\"\n",
    "      .format(resultado, max_depth, max_cv))"
   ]
  }
 ],
 "metadata": {
  "kernelspec": {
   "display_name": "Python 3",
   "language": "python",
   "name": "python3"
  },
  "language_info": {
   "codemirror_mode": {
    "name": "ipython",
    "version": 3
   },
   "file_extension": ".py",
   "mimetype": "text/x-python",
   "name": "python",
   "nbconvert_exporter": "python",
   "pygments_lexer": "ipython3",
   "version": "3.7.6"
  }
 },
 "nbformat": 4,
 "nbformat_minor": 2
}
