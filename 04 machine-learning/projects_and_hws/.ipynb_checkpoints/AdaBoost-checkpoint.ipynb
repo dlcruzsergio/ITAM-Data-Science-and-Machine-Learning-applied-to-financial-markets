{
 "cells": [
  {
   "cell_type": "markdown",
   "metadata": {},
   "source": [
    "<h1 style=\"color:#872325\">Exponential Loss and AdaBoost</h1>\n",
    "<h3>Sergio de la Cruz Badillo, dlcruzser12@gmail.com</h3>"
   ]
  },
  {
   "cell_type": "markdown",
   "metadata": {},
   "source": [
    "Using the loss function \n",
    "$$L(y, f(x)) = exp(−y f(x)) $$\n",
    "\n",
    "The appropriateness of this criterion is addressed in the next section. For AdaBoost the basis functions are the individual classifiers $Gm(x) ∈ {−1, 1}$. Using the exponential loss function, one must solve\n",
    "\n",
    "$$ (β_{m},G_{m}) = argmin_{β,G} \\sum_{i=1}^N exp[−y_i(f_{m−1}(x_i) + β G(x_i))]$$\n",
    "\n",
    "for the classifier Gm and corresponding coefficient βm to be added at each step. This can be expressed as\n",
    "\n",
    "$$  (β_{m},G_{m}) = argmin_{β,G} \\sum_{i=1}^N w_i^{(m)}exp(−βy_i G(x_i))$$\n",
    "\n",
    "with $w_i^m = exp(−y_if_{m−1}(x_i))$. Since each $w_i^m$ depends neither on $β$ nor $G(x)$, it can be regarded as a weight that is applied to each observa- tion. This weight depends on $f_{m−1}(x_i)$, and so the individual weight values change with each iteration $m$. First, for any value of β > 0 is\n",
    "\n",
    "$$ G_{m} = argmin_{G} \\sum_{i=1}^N w_i^{(m)}I(y_i \\neq G(x_i))$$\n",
    "\n",
    "which is the classifier that minimizes the weighted error rate in predicting $y$\n",
    "\n",
    "$$ e^{-β}\\sum_{y_i=G(x_i)}^N w_i^{(m)} + e^{β}\\sum_{y_i \\neq G(x_i)}^N w_i^{(m)}$$\n",
    "\n",
    "which in turn can be written as\n",
    "\n",
    "$$ (e^{β}-e^{-β})\\sum_{i=1}^N w_i^{(m)}I(y_i \\neq G(x_i)) + e^{-β}\\sum_{i=1}^N w_i^{(m)}$$\n",
    "\n",
    "Plugging this $G_m$ and solving for $β$ one obtains\n",
    "\n",
    "$$ β_m = \\frac{1}{2} log\\frac{1-err_m}{err_m} $$\n",
    "\n",
    "where $err_m$ is the minimized weighted error rate\n",
    "\n",
    "$$err_m = \\frac{\\sum_{i=1}^N w_i^{(m)}I(y_i \\neq G(x_i))}{\\sum_{i=1}^N w_i^{(m)}}$$\n",
    "\n",
    "The approximation is then updated\n",
    "\n",
    "$$f_{m}(x) = f_{m−1}(x) + β_mG_m(x) $$\n",
    "\n",
    "which causes the weights for the next iteration to be\n",
    "\n",
    "$$w_{i}^{(m+1)} = w_i^{(m)} e^{−β_m y_i G_m(x_i)} $$\n",
    "\n",
    "Using the fact that\n",
    "\n",
    "$$−y_iG_m(x_i) = 2I(y_i \\neq G_m(x_i)) − 1$$\n",
    "\n",
    "becomes\n",
    "\n",
    "$$w_i^{(m+1)} = w_i^{(m)} e^{α_mI(y_i\\neq G_m(x_i))}e^{−β_m}$$\n",
    "\n",
    "where $$α_m = 2β_m$$\n"
   ]
  }
 ],
 "metadata": {
  "kernelspec": {
   "display_name": "Python 3",
   "language": "python",
   "name": "python3"
  },
  "language_info": {
   "codemirror_mode": {
    "name": "ipython",
    "version": 3
   },
   "file_extension": ".py",
   "mimetype": "text/x-python",
   "name": "python",
   "nbconvert_exporter": "python",
   "pygments_lexer": "ipython3",
   "version": "3.7.6"
  }
 },
 "nbformat": 4,
 "nbformat_minor": 2
}
