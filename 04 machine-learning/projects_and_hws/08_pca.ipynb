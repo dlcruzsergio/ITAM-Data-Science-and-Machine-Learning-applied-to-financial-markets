{
 "cells": [
  {
   "cell_type": "markdown",
   "metadata": {},
   "source": [
    "<h1 style=\"color:#872325\">Entrenando un modelo con PCA</h1>\n",
    "<h3>Sergio de la Cruz Badillo, dlcruzser12@gmail.com</h3>"
   ]
  },
  {
   "cell_type": "markdown",
   "metadata": {},
   "source": [
    "<h2 style=\"color:crimson\">Ejercicio</h2>\n",
    "\n",
    "**Entrenando un modelo con PCA**\n",
    "Considerando  `xtrain`, `ytrain` definido en las céldas de arriba, crea dos modelos: \n",
    "1. Un pipeline considerando PCA con `n_components=0.7` seguido de un modelo `KNeighborsClassifier` con `n_neighbors=5`\n",
    "2. `KNeighborsClassifier` con `n_neighbors=5`\n",
    "\n",
    "Realiza un *cross validation* con `cv=3`.\n",
    "* ¿Qué resultados arroja cada modelo?\n",
    "* ¿Qué ventajas tiene cada modelo?\n",
    "* ¿Cuánto tarda en correr cada *cross-validation*?"
   ]
  },
  {
   "cell_type": "markdown",
   "metadata": {},
   "source": [
    "<h3>Import libraries</h3>"
   ]
  },
  {
   "cell_type": "code",
   "execution_count": 35,
   "metadata": {},
   "outputs": [],
   "source": [
    "#!conda install tensorflow -y"
   ]
  },
  {
   "cell_type": "code",
   "execution_count": 36,
   "metadata": {},
   "outputs": [],
   "source": [
    "from sklearn.decomposition import PCA\n",
    "from sklearn.model_selection import cross_validate\n",
    "from sklearn.neighbors import KNeighborsClassifier\n",
    "from sklearn.pipeline import Pipeline\n",
    "from tensorflow.keras import datasets\n",
    "\n",
    "import numpy as np"
   ]
  },
  {
   "cell_type": "code",
   "execution_count": 37,
   "metadata": {},
   "outputs": [],
   "source": [
    "np.random.seed(412)\n",
    "train, test = datasets.mnist.load_data()\n",
    "pca = PCA(n_components=.7)\n",
    "xtrain, ytrain = train\n",
    "N, M1, M2 = xtrain.shape\n",
    "x_reduced = pca.fit_transform(xtrain.reshape(N, -1))"
   ]
  },
  {
   "cell_type": "code",
   "execution_count": 38,
   "metadata": {},
   "outputs": [
    {
     "name": "stdout",
     "output_type": "stream",
     "text": [
      "Cross-Validation con PCA y KNeighborsClassifier:\n",
      "\n",
      "{'fit_time': array([0.08043122, 0.08906507, 0.06972289]), 'score_time': array([2.7751019 , 2.76943898, 2.68557596]), 'test_score': array([0.93595, 0.93105, 0.9331 ])}\n",
      "\n",
      "CPU times: user 9.14 s, sys: 57.2 ms, total: 9.19 s\n",
      "Wall time: 8.49 s\n"
     ]
    }
   ],
   "source": [
    "%%time\n",
    "\n",
    "cv1 = cross_validate(Pipeline([\n",
    "    (\"pca\", PCA(n_components=.7)),\n",
    "    (\"knc\", KNeighborsClassifier(n_neighbors=5))\n",
    "]), x_reduced, ytrain, cv=3)\n",
    "print(\"Cross-Validation con PCA y KNeighborsClassifier:\\n\\n{}\\n\".format(cv1))"
   ]
  },
  {
   "cell_type": "code",
   "execution_count": 39,
   "metadata": {},
   "outputs": [
    {
     "name": "stdout",
     "output_type": "stream",
     "text": [
      "Cross-Validation con KNeighborsClassifier:\n",
      "\n",
      "{'fit_time': array([0.08077693, 0.09166884, 0.07464314]), 'score_time': array([18.42307568, 19.08387113, 19.09254694]), 'test_score': array([0.9714 , 0.9699 , 0.97045])}\n",
      "\n",
      "CPU times: user 55.9 s, sys: 321 ms, total: 56.3 s\n",
      "Wall time: 56.9 s\n"
     ]
    }
   ],
   "source": [
    "%%time\n",
    "\n",
    "cv2 = cross_validate(KNeighborsClassifier(n_neighbors=5), x_reduced, ytrain, cv=3)\n",
    "print(\"Cross-Validation con KNeighborsClassifier:\\n\\n{}\\n\".format(cv2))"
   ]
  },
  {
   "cell_type": "markdown",
   "metadata": {},
   "source": [
    "<h3>¿Qué resultados arroja cada modelo?</h3>"
   ]
  },
  {
   "cell_type": "code",
   "execution_count": 40,
   "metadata": {
    "scrolled": true
   },
   "outputs": [
    {
     "name": "stdout",
     "output_type": "stream",
     "text": [
      "test_score de Cross-Validation con PCA y KNeighborsClassifier: 0.9333666666666667\n",
      "test_score de Cross-Validation con KNeighborsClassifier: 0.9705833333333334\n"
     ]
    }
   ],
   "source": [
    "print(\"test_score de Cross-Validation con PCA y KNeighborsClassifier: {}\".format(cv1['test_score'].mean()))\n",
    "print(\"test_score de Cross-Validation con KNeighborsClassifier: {}\".format(cv2['test_score'].mean()))"
   ]
  },
  {
   "cell_type": "markdown",
   "metadata": {},
   "source": [
    "<h3>¿Qué ventajas tiene cada modelo?</h3>\n",
    "\n",
    "<p>Cross-Validation con PCA y KNeighborsClassifier es mucho más rápido que sólo implementar Cross-Validation con KNeighborsClassifier y en este caso, usando el dataset previamnete definido, el <code>test_score</code> es muy parecido en ambos resultados.</p>"
   ]
  },
  {
   "cell_type": "markdown",
   "metadata": {},
   "source": [
    "<h3>¿Cuánto tarda en correr cada cross-validation?</h3>"
   ]
  },
  {
   "cell_type": "code",
   "execution_count": 45,
   "metadata": {},
   "outputs": [
    {
     "name": "stdout",
     "output_type": "stream",
     "text": [
      "Tiempo de Cross-Validation con PCA y KNeighborsClassifier:\n",
      "\n",
      "CPU times: user 9.14 s, sys: 57.2 ms, total: 9.19 s\n",
      "Wall time: 8.49 s\n",
      "\n",
      "==================================================================================\n",
      "\n",
      "Tiempo de Cross-Validation con KNeighborsClassifier:\n",
      "\n",
      "CPU times: user 55.9 s, sys: 321 ms, total: 56.3 s\n",
      "Wall time: 56.9 s\n",
      "\n"
     ]
    }
   ],
   "source": [
    "print(\"Tiempo de Cross-Validation con PCA y KNeighborsClassifier:\\n\\n{}\\n{}\\n\".format(\n",
    "    \"CPU times: user 9.14 s, sys: 57.2 ms, total: 9.19 s\",\n",
    "    \"Wall time: 8.49 s\"\n",
    "))\n",
    "print(\"==================================================================================\\n\")\n",
    "print(\"Tiempo de Cross-Validation con KNeighborsClassifier:\\n\\n{}\\n{}\\n\".format(\n",
    "    \"CPU times: user 55.9 s, sys: 321 ms, total: 56.3 s\",\n",
    "    \"Wall time: 56.9 s\"\n",
    "))"
   ]
  },
  {
   "cell_type": "code",
   "execution_count": null,
   "metadata": {},
   "outputs": [],
   "source": []
  }
 ],
 "metadata": {
  "kernelspec": {
   "display_name": "Python 3",
   "language": "python",
   "name": "python3"
  },
  "language_info": {
   "codemirror_mode": {
    "name": "ipython",
    "version": 3
   },
   "file_extension": ".py",
   "mimetype": "text/x-python",
   "name": "python",
   "nbconvert_exporter": "python",
   "pygments_lexer": "ipython3",
   "version": "3.7.6"
  }
 },
 "nbformat": 4,
 "nbformat_minor": 2
}
