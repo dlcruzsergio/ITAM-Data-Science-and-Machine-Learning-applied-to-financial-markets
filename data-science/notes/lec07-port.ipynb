{
 "cells": [
  {
   "cell_type": "markdown",
   "metadata": {
    "slideshow": {
     "slide_type": "slide"
    }
   },
   "source": [
    "# Teoría de Portafolios"
   ]
  },
  {
   "cell_type": "markdown",
   "metadata": {
    "slideshow": {
     "slide_type": "subslide"
    }
   },
   "source": [
    "### Aversión al riesgo\n",
    "<br>\n",
    "\n",
    "<font color='green'>**Conceptos relevantes**</font>\n",
    "\n",
    "* Rendimiento en exceso\n",
    "* Premio por riesgo\n",
    "* Aversión al riesgo \n",
    "* Especulación \n",
    "* Juego justo"
   ]
  },
  {
   "cell_type": "markdown",
   "metadata": {
    "slideshow": {
     "slide_type": "subslide"
    }
   },
   "source": [
    "<font color='green'>**Criterio de Media-Varianza**</font>\n",
    "\n",
    "**El portafolio A domina al B si:**\n",
    "\n",
    "$E(r_{A}) \\geq E(r_{B})$\n",
    "\n",
    "y\n",
    "\n",
    "$\\sigma_{A} \\leq \\sigma_{B}$\n",
    "\n",
    "Y al menos una desigualdad es estricta"
   ]
  },
  {
   "cell_type": "markdown",
   "metadata": {
    "slideshow": {
     "slide_type": "subslide"
    }
   },
   "source": [
    "`FUNCIÓN DE UTILIDAD`\n",
    "\n",
    "$U=E(r)\\frac{1}{2}-A\\sigma^{2}$"
   ]
  },
  {
   "cell_type": "markdown",
   "metadata": {
    "slideshow": {
     "slide_type": "slide"
    }
   },
   "source": [
    "### Matemáticas de Portafolios\n",
    "<BR>"
   ]
  },
  {
   "cell_type": "markdown",
   "metadata": {
    "slideshow": {
     "slide_type": "subslide"
    }
   },
   "source": [
    "<font color='green'>**REGLA 1**</font>\n",
    "\n",
    "El rendimiento esperado de un activo es un promedio ponderado de los rendimientos en cada uno de sus escenarios\n",
    "\n",
    "$E(r)=\\sum_{s}Pr(s)r(s)$"
   ]
  },
  {
   "cell_type": "markdown",
   "metadata": {
    "slideshow": {
     "slide_type": "subslide"
    }
   },
   "source": [
    "<font color='green'>**REGLA 2**</font>\n",
    "\n",
    "La varianza del rendimiento de un activo es el valor esperado de las desviaciones al cuadrado de cada rendimiento respecto a su media o valor esperado\n",
    "\n",
    "$\\sigma^{2}=\\sum_{s}Pr(s)([r(s)-E(r)])^{2}$\n"
   ]
  },
  {
   "cell_type": "markdown",
   "metadata": {
    "slideshow": {
     "slide_type": "subslide"
    }
   },
   "source": [
    "<font color='green'>**REGLA 3**</font>\n",
    "\n",
    "El rendimiento esperado de un portafolio es un promedio ponderado de los rendimientos esperados de los activos que lo componen\n"
   ]
  },
  {
   "cell_type": "markdown",
   "metadata": {
    "slideshow": {
     "slide_type": "subslide"
    }
   },
   "source": [
    "<font color='green'>**REGLA 4**</font>\n",
    "\n",
    "Cuando se combina un activo riesgoso con un activo libre de riesgo, la desviación estándar del portafolio es igual a la desviación estándar del activo riesgoso por su ponderación\n"
   ]
  },
  {
   "cell_type": "markdown",
   "metadata": {
    "slideshow": {
     "slide_type": "subslide"
    }
   },
   "source": [
    "<font color='green'>**REGLA 5**</font>\n",
    "\n",
    "Cuando se combinan dos activos riesgosos, la varianza del portafolio está dada por:  \n",
    "\n",
    "$\\sigma^{2}_p=w_{1}^{2}\\sigma_{1}^{2}+w_{2}^{2}\\sigma_{2}^{2}+2w_{1}w_{2}Cov(r_{1},r_{2})$"
   ]
  },
  {
   "cell_type": "markdown",
   "metadata": {
    "slideshow": {
     "slide_type": "slide"
    }
   },
   "source": [
    "### Asignación entre activo libre de riesgo y portafolio riesgoso\n",
    "<br>\n",
    "$E(r_{C})=yE(r_{P})+(1-y)r_{f}$\n",
    "\n",
    "$\\sigma_{C}=y\\sigma_{P}$\n",
    "\n",
    "Coeficiente de Sharpe:  $S=\\frac{E(r_{P})-r_{f}}{\\sigma_{P}}$   \n",
    "\n",
    "**Capital Allocation Line**\n"
   ]
  },
  {
   "cell_type": "markdown",
   "metadata": {
    "slideshow": {
     "slide_type": "slide"
    }
   },
   "source": [
    "### Tolerancia al riesgo y asignación de activos\n",
    "\n",
    "* Maximización de utilidad \n",
    "\n",
    "$y{*}=\\frac{E(r_{P})-r_{f}}{A\\sigma_{P}^{2}}$   \n",
    "\n",
    "* Aversión al riesgo y curvas de indiferencia"
   ]
  },
  {
   "cell_type": "markdown",
   "metadata": {
    "slideshow": {
     "slide_type": "slide"
    }
   },
   "source": [
    "### Portafolio óptimo riesgoso\n",
    "\n",
    "* Rendimiento esperado y riesgo del portafolio \n",
    "* Portafolio de mínima varianza \n",
    "\n",
    "![Optimal%20Portfolio.PNG](../files/lec07/Optimal%20Portfolio.PNG)"
   ]
  },
  {
   "cell_type": "markdown",
   "metadata": {
    "slideshow": {
     "slide_type": "slide"
    }
   },
   "source": [
    "### Modelo de Markowitz\n",
    "\n",
    "* Generalización a *n* activos riesgosos y un activo libre de riesgo\n",
    "\n",
    "![Portf1.PNG](../files/lec07/Portf1.PNG)\n",
    "\n",
    "![Portf2.PNG](../files/lec07/Portf2.PNG)\n",
    "\n",
    "![Portf3.PNG](../files/lec07/Portf3.PNG)"
   ]
  },
  {
   "cell_type": "markdown",
   "metadata": {
    "slideshow": {
     "slide_type": "slide"
    }
   },
   "source": [
    "# Modelos de Valuación de Acciones"
   ]
  },
  {
   "cell_type": "markdown",
   "metadata": {
    "slideshow": {
     "slide_type": "slide"
    }
   },
   "source": [
    "## Capital Asset Pricing Model  (CAPM) \n",
    "\n",
    "* Supuestos \n",
    "\n",
    "* **Security Market Line**:    $E(r_{A})=r_{f}+\\beta_{A}[E(r_{M})-r_{f})$\n",
    "\n",
    "\n",
    "![ALFAA%202.PNG](../files/lec07/ALFAA%202.PNG)\n",
    "\n",
    "## Modelos Multifactoriales\n",
    "\n",
    "* Factores"
   ]
  },
  {
   "cell_type": "markdown",
   "metadata": {
    "slideshow": {
     "slide_type": "slide"
    }
   },
   "source": [
    "## Modelos de Valuación Absoluta\n",
    "\n",
    "* Modelo de Dividendos Descontados \n",
    "* Modelo de Flujos Descontados \n",
    "\n",
    "![ALFAA%203.PNG](../files/lec07/ALFAA%203.PNG)\n",
    "\n",
    "![ALFAA5.PNG](../files/lec07/ALFAA5.PNG)\n",
    "\n"
   ]
  },
  {
   "cell_type": "markdown",
   "metadata": {
    "slideshow": {
     "slide_type": "slide"
    }
   },
   "source": [
    "## Modelos de Valuación Relativa  \n",
    "\n",
    "* Múltiplos \n",
    "\n",
    "![ALFAA4.PNG](../files/lec07/ALFAA4.PNG)"
   ]
  },
  {
   "cell_type": "markdown",
   "metadata": {
    "slideshow": {
     "slide_type": "slide"
    }
   },
   "source": [
    "\n",
    "![ALFAA6.PNG](../files/lec07/ALFAA6.PNG)"
   ]
  },
  {
   "cell_type": "code",
   "execution_count": 53,
   "metadata": {},
   "outputs": [],
   "source": [
    "import pandas as pd\n",
    "import numpy as np"
   ]
  },
  {
   "cell_type": "code",
   "execution_count": 54,
   "metadata": {},
   "outputs": [
    {
     "data": {
      "text/html": [
       "<div>\n",
       "<style scoped>\n",
       "    .dataframe tbody tr th:only-of-type {\n",
       "        vertical-align: middle;\n",
       "    }\n",
       "\n",
       "    .dataframe tbody tr th {\n",
       "        vertical-align: top;\n",
       "    }\n",
       "\n",
       "    .dataframe thead th {\n",
       "        text-align: right;\n",
       "    }\n",
       "</style>\n",
       "<table border=\"1\" class=\"dataframe\">\n",
       "  <thead>\n",
       "    <tr style=\"text-align: right;\">\n",
       "      <th></th>\n",
       "      <th>ASURB MF Equity</th>\n",
       "      <th>GFNORTEO MF Equity</th>\n",
       "      <th>PE&amp;OLES* MF Equity</th>\n",
       "      <th>WALMEX* MF Equity</th>\n",
       "      <th>IENOVA* MF Equity</th>\n",
       "    </tr>\n",
       "    <tr>\n",
       "      <th>DATE</th>\n",
       "      <th></th>\n",
       "      <th></th>\n",
       "      <th></th>\n",
       "      <th></th>\n",
       "      <th></th>\n",
       "    </tr>\n",
       "  </thead>\n",
       "  <tbody>\n",
       "    <tr>\n",
       "      <td>2016-01-01</td>\n",
       "      <td>NaN</td>\n",
       "      <td>NaN</td>\n",
       "      <td>NaN</td>\n",
       "      <td>NaN</td>\n",
       "      <td>NaN</td>\n",
       "    </tr>\n",
       "    <tr>\n",
       "      <td>2016-01-04</td>\n",
       "      <td>-0.022961</td>\n",
       "      <td>-0.033688</td>\n",
       "      <td>-0.007448</td>\n",
       "      <td>-0.014946</td>\n",
       "      <td>0.008847</td>\n",
       "    </tr>\n",
       "    <tr>\n",
       "      <td>2016-01-05</td>\n",
       "      <td>-0.022074</td>\n",
       "      <td>-0.000763</td>\n",
       "      <td>0.003127</td>\n",
       "      <td>-0.004202</td>\n",
       "      <td>-0.020554</td>\n",
       "    </tr>\n",
       "    <tr>\n",
       "      <td>2016-01-06</td>\n",
       "      <td>-0.004549</td>\n",
       "      <td>-0.000981</td>\n",
       "      <td>-0.021366</td>\n",
       "      <td>-0.006564</td>\n",
       "      <td>-0.007555</td>\n",
       "    </tr>\n",
       "    <tr>\n",
       "      <td>2016-01-07</td>\n",
       "      <td>-0.005432</td>\n",
       "      <td>-0.022809</td>\n",
       "      <td>0.001506</td>\n",
       "      <td>-0.056395</td>\n",
       "      <td>0.019312</td>\n",
       "    </tr>\n",
       "  </tbody>\n",
       "</table>\n",
       "</div>"
      ],
      "text/plain": [
       "            ASURB MF Equity  GFNORTEO MF Equity  PE&OLES* MF Equity  \\\n",
       "DATE                                                                  \n",
       "2016-01-01              NaN                 NaN                 NaN   \n",
       "2016-01-04        -0.022961           -0.033688           -0.007448   \n",
       "2016-01-05        -0.022074           -0.000763            0.003127   \n",
       "2016-01-06        -0.004549           -0.000981           -0.021366   \n",
       "2016-01-07        -0.005432           -0.022809            0.001506   \n",
       "\n",
       "            WALMEX* MF Equity  IENOVA* MF Equity  \n",
       "DATE                                              \n",
       "2016-01-01                NaN                NaN  \n",
       "2016-01-04          -0.014946           0.008847  \n",
       "2016-01-05          -0.004202          -0.020554  \n",
       "2016-01-06          -0.006564          -0.007555  \n",
       "2016-01-07          -0.056395           0.019312  "
      ]
     },
     "execution_count": 54,
     "metadata": {},
     "output_type": "execute_result"
    }
   ],
   "source": [
    "path = ('/Users/sergio.delacruz/Box Sync/data_science/'\n",
    "        'ITAM - Data Science and Machine Learning applied to financial markets/'\n",
    "        'data-science/files/lec07/preciosportf.xlsx')\n",
    "\n",
    "data = pd.read_excel(path, index_col=0)\n",
    "rend = data.pct_change()\n",
    "rend.head()"
   ]
  },
  {
   "cell_type": "code",
   "execution_count": 55,
   "metadata": {},
   "outputs": [
    {
     "name": "stdout",
     "output_type": "stream",
     "text": [
      "[0.163362   0.13356032 0.04672066 0.1043962  0.55196082]\n"
     ]
    }
   ],
   "source": [
    "# Se inician pesos aleatorios\n",
    "weights = np.random.random(5)\n",
    "weights /= np.sum(weights)\n",
    "print(weights)"
   ]
  },
  {
   "cell_type": "markdown",
   "metadata": {
    "slideshow": {
     "slide_type": "notes"
    }
   },
   "source": [
    "Rendimiento:\n",
    "$$E(r_p) = X^TR$$\n",
    "Cabe mencionar que se anualiza"
   ]
  },
  {
   "cell_type": "code",
   "execution_count": 56,
   "metadata": {},
   "outputs": [
    {
     "data": {
      "text/plain": [
       "0.08810437243644885"
      ]
     },
     "execution_count": 56,
     "metadata": {},
     "output_type": "execute_result"
    }
   ],
   "source": [
    "# Rendimiento esperado del portafolio\n",
    "np.dot(weights.T, rend.mean()) * (252/1)"
   ]
  },
  {
   "cell_type": "code",
   "execution_count": 57,
   "metadata": {},
   "outputs": [
    {
     "name": "stdout",
     "output_type": "stream",
     "text": [
      "0.030571785888884206\n"
     ]
    }
   ],
   "source": [
    "# Varianza del portafolio\n",
    "var = np.dot(weights.T, np.dot(rend.cov()*252, weights))\n",
    "# Desviación estandar\n",
    "des = np.sqrt(cor)\n",
    "print(var)"
   ]
  },
  {
   "cell_type": "code",
   "execution_count": null,
   "metadata": {},
   "outputs": [],
   "source": []
  },
  {
   "cell_type": "code",
   "execution_count": 58,
   "metadata": {},
   "outputs": [
    {
     "data": {
      "text/plain": [
       "ASURB MF Equity       0.000490\n",
       "GFNORTEO MF Equity    0.000313\n",
       "PE&OLES* MF Equity    0.000441\n",
       "WALMEX* MF Equity     0.000327\n",
       "IENOVA* MF Equity     0.000313\n",
       "dtype: float64"
      ]
     },
     "execution_count": 58,
     "metadata": {},
     "output_type": "execute_result"
    }
   ],
   "source": [
    "rend.mean()"
   ]
  },
  {
   "cell_type": "code",
   "execution_count": 59,
   "metadata": {},
   "outputs": [
    {
     "data": {
      "text/plain": [
       "ASURB MF Equity       0.123539\n",
       "GFNORTEO MF Equity    0.078811\n",
       "PE&OLES* MF Equity    0.111053\n",
       "WALMEX* MF Equity     0.082426\n",
       "IENOVA* MF Equity     0.078997\n",
       "dtype: float64"
      ]
     },
     "execution_count": 59,
     "metadata": {},
     "output_type": "execute_result"
    }
   ],
   "source": [
    "# Rendimiento esperados anuales\n",
    "rend.mean() * 252"
   ]
  },
  {
   "cell_type": "code",
   "execution_count": 60,
   "metadata": {},
   "outputs": [
    {
     "data": {
      "text/html": [
       "<div>\n",
       "<style scoped>\n",
       "    .dataframe tbody tr th:only-of-type {\n",
       "        vertical-align: middle;\n",
       "    }\n",
       "\n",
       "    .dataframe tbody tr th {\n",
       "        vertical-align: top;\n",
       "    }\n",
       "\n",
       "    .dataframe thead th {\n",
       "        text-align: right;\n",
       "    }\n",
       "</style>\n",
       "<table border=\"1\" class=\"dataframe\">\n",
       "  <thead>\n",
       "    <tr style=\"text-align: right;\">\n",
       "      <th></th>\n",
       "      <th>ASURB MF Equity</th>\n",
       "      <th>GFNORTEO MF Equity</th>\n",
       "      <th>PE&amp;OLES* MF Equity</th>\n",
       "      <th>WALMEX* MF Equity</th>\n",
       "      <th>IENOVA* MF Equity</th>\n",
       "    </tr>\n",
       "  </thead>\n",
       "  <tbody>\n",
       "    <tr>\n",
       "      <td>ASURB MF Equity</td>\n",
       "      <td>0.000224</td>\n",
       "      <td>0.000086</td>\n",
       "      <td>0.000061</td>\n",
       "      <td>0.000036</td>\n",
       "      <td>0.000044</td>\n",
       "    </tr>\n",
       "    <tr>\n",
       "      <td>GFNORTEO MF Equity</td>\n",
       "      <td>0.000086</td>\n",
       "      <td>0.000341</td>\n",
       "      <td>0.000094</td>\n",
       "      <td>0.000082</td>\n",
       "      <td>0.000082</td>\n",
       "    </tr>\n",
       "    <tr>\n",
       "      <td>PE&amp;OLES* MF Equity</td>\n",
       "      <td>0.000061</td>\n",
       "      <td>0.000094</td>\n",
       "      <td>0.000548</td>\n",
       "      <td>0.000041</td>\n",
       "      <td>0.000045</td>\n",
       "    </tr>\n",
       "    <tr>\n",
       "      <td>WALMEX* MF Equity</td>\n",
       "      <td>0.000036</td>\n",
       "      <td>0.000082</td>\n",
       "      <td>0.000041</td>\n",
       "      <td>0.000215</td>\n",
       "      <td>0.000043</td>\n",
       "    </tr>\n",
       "    <tr>\n",
       "      <td>IENOVA* MF Equity</td>\n",
       "      <td>0.000044</td>\n",
       "      <td>0.000082</td>\n",
       "      <td>0.000045</td>\n",
       "      <td>0.000043</td>\n",
       "      <td>0.000226</td>\n",
       "    </tr>\n",
       "  </tbody>\n",
       "</table>\n",
       "</div>"
      ],
      "text/plain": [
       "                    ASURB MF Equity  GFNORTEO MF Equity  PE&OLES* MF Equity  \\\n",
       "ASURB MF Equity            0.000224            0.000086            0.000061   \n",
       "GFNORTEO MF Equity         0.000086            0.000341            0.000094   \n",
       "PE&OLES* MF Equity         0.000061            0.000094            0.000548   \n",
       "WALMEX* MF Equity          0.000036            0.000082            0.000041   \n",
       "IENOVA* MF Equity          0.000044            0.000082            0.000045   \n",
       "\n",
       "                    WALMEX* MF Equity  IENOVA* MF Equity  \n",
       "ASURB MF Equity              0.000036           0.000044  \n",
       "GFNORTEO MF Equity           0.000082           0.000082  \n",
       "PE&OLES* MF Equity           0.000041           0.000045  \n",
       "WALMEX* MF Equity            0.000215           0.000043  \n",
       "IENOVA* MF Equity            0.000043           0.000226  "
      ]
     },
     "execution_count": 60,
     "metadata": {},
     "output_type": "execute_result"
    }
   ],
   "source": [
    "rend.cov()"
   ]
  }
 ],
 "metadata": {
  "celltoolbar": "Slideshow",
  "kernelspec": {
   "display_name": "Python 3",
   "language": "python",
   "name": "python3"
  },
  "language_info": {
   "codemirror_mode": {
    "name": "ipython",
    "version": 3
   },
   "file_extension": ".py",
   "mimetype": "text/x-python",
   "name": "python",
   "nbconvert_exporter": "python",
   "pygments_lexer": "ipython3",
   "version": "3.7.4"
  }
 },
 "nbformat": 4,
 "nbformat_minor": 2
}
