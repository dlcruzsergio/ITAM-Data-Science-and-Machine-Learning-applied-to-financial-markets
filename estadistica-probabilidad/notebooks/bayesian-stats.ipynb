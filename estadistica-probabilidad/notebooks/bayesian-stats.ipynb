{
 "cells": [
  {
   "cell_type": "markdown",
   "metadata": {},
   "source": [
    "# Estadística Bayesiana 101"
   ]
  },
  {
   "cell_type": "code",
   "execution_count": 1,
   "metadata": {},
   "outputs": [],
   "source": [
    "import numpy as np\n",
    "import matplotlib.pyplot as plt\n",
    "from scipy.stats import beta\n",
    "from ipywidgets import interact, IntSlider"
   ]
  },
  {
   "cell_type": "code",
   "execution_count": 2,
   "metadata": {},
   "outputs": [],
   "source": [
    "%config InlineBackend.figure_format = \"retina\""
   ]
  },
  {
   "cell_type": "markdown",
   "metadata": {},
   "source": [
    "Observamos una serie de eventos en el cuál se lanza una moneda. Tenemos que\n",
    "\n",
    "$$\n",
    "    p(D|\\mu) = \\prod_{n=1}^n\\mu^{x_n}(1 - \\mu) ^ {1 - x_n} \n",
    "$$"
   ]
  },
  {
   "cell_type": "code",
   "execution_count": 3,
   "metadata": {},
   "outputs": [],
   "source": [
    "# H: 1, T: 0\n",
    "obs = np.array([1, 1, 0, 1, 0, 1, 1])\n",
    "N = len(obs)"
   ]
  },
  {
   "cell_type": "markdown",
   "metadata": {},
   "source": [
    "## Máxima Verosimilitud (ML)"
   ]
  },
  {
   "cell_type": "code",
   "execution_count": 4,
   "metadata": {},
   "outputs": [
    {
     "data": {
      "text/plain": [
       "0.7142857142857143"
      ]
     },
     "execution_count": 4,
     "metadata": {},
     "output_type": "execute_result"
    }
   ],
   "source": [
    "# ML Solution\n",
    "obs.mean()"
   ]
  },
  {
   "cell_type": "markdown",
   "metadata": {},
   "source": [
    "## Máxima Estimacion a Posteriori (MAP)"
   ]
  },
  {
   "cell_type": "markdown",
   "metadata": {},
   "source": [
    "The Beta distribution\n",
    "\n",
    "$$\n",
    "    \\text{Beta}(\\mu|\\alpha, \\beta) = \\frac{\\Gamma(\\alpha + \\beta)}{\\Gamma(\\alpha)\\Gamma(\\beta)}\\mu^{\\alpha-1}(1 - \\mu)^{1 - \\beta}\n",
    "$$"
   ]
  },
  {
   "cell_type": "markdown",
   "metadata": {},
   "source": [
    "### Nuestra distribución a priori"
   ]
  },
  {
   "cell_type": "code",
   "execution_count": 5,
   "metadata": {
    "scrolled": true
   },
   "outputs": [
    {
     "data": {
      "application/vnd.jupyter.widget-view+json": {
       "model_id": "869cfd5e0bcf4fe5b2c4c9f0176a7210",
       "version_major": 2,
       "version_minor": 0
      },
      "text/plain": [
       "interactive(children=(IntSlider(value=1, description='H:', max=10, min=1), IntSlider(value=1, description='T:'…"
      ]
     },
     "metadata": {},
     "output_type": "display_data"
    }
   ],
   "source": [
    "x = np.linspace(0, 1, 100)\n",
    "kwargs = {\"min\": 1, \"max\": 10, \"step\":1}\n",
    "@interact(a=IntSlider(**kwargs, description=\"H:\"),\n",
    "          b=IntSlider(**kwargs, description=\"T:\"))\n",
    "def plot_beta(a, b):\n",
    "    B = beta(a=a, b=b)\n",
    "    plt.plot(x, B.pdf(x))\n",
    "    plt.ylim(0, 5)"
   ]
  },
  {
   "cell_type": "code",
   "execution_count": 6,
   "metadata": {},
   "outputs": [
    {
     "data": {
      "text/plain": [
       "0.56"
      ]
     },
     "execution_count": 6,
     "metadata": {},
     "output_type": "execute_result"
    }
   ],
   "source": [
    "a, b = 10, 10\n",
    "B = beta(a=a, b=b)\n",
    "(obs.sum() + a - 1) / (N + a + b - 2)"
   ]
  },
  {
   "cell_type": "markdown",
   "metadata": {},
   "source": [
    "## Distribución a Posteriori\n",
    "\n",
    "La distribución a posteriori de una distribución a priori Beta con verosimilitud Bernoulli está dada por:\n",
    "\n",
    "$$\n",
    "    p(\\mu|D) = \\text{Beta}\\left(\\mu | \\alpha + \\sum_nx_n, \\beta + N - \\sum_n x_n\\right)\n",
    "$$"
   ]
  },
  {
   "cell_type": "code",
   "execution_count": 7,
   "metadata": {},
   "outputs": [
    {
     "data": {
      "application/vnd.jupyter.widget-view+json": {
       "model_id": "19fcca83b3054190a6730dfd9919d2b9",
       "version_major": 2,
       "version_minor": 0
      },
      "text/plain": [
       "interactive(children=(IntSlider(value=0, description='observations:', max=10), IntSlider(value=1, description=…"
      ]
     },
     "metadata": {},
     "output_type": "display_data"
    }
   ],
   "source": [
    "obs = np.array([1, 1, 0, 1, 0, 1, 1, 0, 0, 1])\n",
    "# obs = np.array([1, 0, 1, 0, 1, 0, 1, 0, 1, 0]) # very high confidence vector\n",
    "x = np.linspace(0, 1, 100)\n",
    "kwargs_obs = {\"min\": 0, \"max\": len(obs), \"step\":1, \"value\":0}\n",
    "kwargs = {\"min\": 1, \"max\": 10, \"step\":1}\n",
    "@interact(n=IntSlider(**kwargs_obs, description=\"observations:\"),\n",
    "          a=IntSlider(**kwargs, description=\"⍺ (H) prior:\"),\n",
    "          b=IntSlider(**kwargs, description=\"β (T) prior:\"))\n",
    "def plot_beta_posterior(n, a, b):\n",
    "    sample = obs[:n+1]\n",
    "    a = a + sample.sum()\n",
    "    b = b + len(sample) - sample.sum()\n",
    "    B = beta(a=a, b=b)\n",
    "\n",
    "    mu_mean = (sample.sum() + a - 1) / (len(sample) + a + b - 2)\n",
    "    plt.title(\"$\\mu$ mean =\" f\"{mu_mean:0.2f}\", fontsize=15)\n",
    "    plt.plot(x, B.pdf(x))\n",
    "    plt.ylim(0, 5)"
   ]
  },
  {
   "cell_type": "code",
   "execution_count": null,
   "metadata": {},
   "outputs": [],
   "source": []
  },
  {
   "cell_type": "code",
   "execution_count": null,
   "metadata": {},
   "outputs": [],
   "source": []
  },
  {
   "cell_type": "code",
   "execution_count": null,
   "metadata": {},
   "outputs": [],
   "source": []
  },
  {
   "cell_type": "code",
   "execution_count": 11,
   "metadata": {},
   "outputs": [
    {
     "data": {
      "text/plain": [
       "0.39241768143447936"
      ]
     },
     "execution_count": 11,
     "metadata": {},
     "output_type": "execute_result"
    }
   ],
   "source": [
    "muestra = np.random.uniform(1, 3, size=10_000)\n",
    "\n",
    "def h(x):\n",
    "    return np.exp(-x**2 / 2)\n",
    "\n",
    "np.mean(h(muestra)) * (3-1)\n",
    "\n",
    "xrange = np.linspace(0, 1, 100)\n",
    "x = nrandom.uniform(low=0, high=1, size=90_000)\n",
    "sns.kdeplot(x);\n",
    "plt.plot(xrange, h(xrange))"
   ]
  },
  {
   "cell_type": "code",
   "execution_count": 12,
   "metadata": {},
   "outputs": [],
   "source": [
    "np.random.seed(314)\n",
    "\n",
    "N,mu1 = 5,0.3\n",
    "M,mu2 = 7,0.7\n",
    "\n",
    "X = np.random.binomial(N, mu1, size=100)\n",
    "Y = np.random.binomial(M, mu2, size=100)\n",
    "\n",
    "n_samples = 200_000\n",
    "m1_hat = \n",
    "m2_hat = \n",
    "    "
   ]
  },
  {
   "cell_type": "code",
   "execution_count": null,
   "metadata": {},
   "outputs": [],
   "source": []
  }
 ],
 "metadata": {
  "kernelspec": {
   "display_name": "Python 3",
   "language": "python",
   "name": "python3"
  },
  "language_info": {
   "codemirror_mode": {
    "name": "ipython",
    "version": 3
   },
   "file_extension": ".py",
   "mimetype": "text/x-python",
   "name": "python",
   "nbconvert_exporter": "python",
   "pygments_lexer": "ipython3",
   "version": "3.7.3"
  }
 },
 "nbformat": 4,
 "nbformat_minor": 2
}
