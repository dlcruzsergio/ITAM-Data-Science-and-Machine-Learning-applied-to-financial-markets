{
 "cells": [
  {
   "cell_type": "markdown",
   "metadata": {},
   "source": [
    "### Sergio de la Cruz Badillo"
   ]
  },
  {
   "cell_type": "code",
   "execution_count": 37,
   "metadata": {
    "scrolled": true
   },
   "outputs": [
    {
     "name": "stdout",
     "output_type": "stream",
     "text": [
      "Dot product:\n",
      "[[28.]\n",
      " [29.]\n",
      " [23.]\n",
      " [21.]]\n",
      "\n",
      "Dot product, por función numpy.dot:\n",
      "[[28]\n",
      " [29]\n",
      " [23]\n",
      " [21]]\n",
      "\n"
     ]
    }
   ],
   "source": [
    "import numpy as np\n",
    "\n",
    "m_A = np.random.randint(1, 5, size=(4, 3))\n",
    "m_B = np.random.randint(1, 5, size=(3, 1))\n",
    "\n",
    "def dot_product(A, B):\n",
    "    '''\n",
    "    ENTRADA:\n",
    "    A: Matriz para multiplicar.\n",
    "    \n",
    "    B: Matriz para multiplicar.\n",
    "    \n",
    "    SALIDA:\n",
    "    m_Z: Matriz de producto punto.\n",
    "    \n",
    "    '''\n",
    "    m_Z = np.zeros(shape=(np.shape(A)[0], np.shape(B)[1])) \n",
    "    \n",
    "    for h in range (0, np.shape(A)[0]):\n",
    "        for i in range(0, np.shape(B)[1]):\n",
    "            suma = 0\n",
    "            for j in range (0, np.shape(B)[0]):\n",
    "                v = A[h,j] * B[j,i]\n",
    "                suma = suma + v\n",
    "            m_Z[h,i] = suma\n",
    "    \n",
    "    return m_Z\n",
    "\n",
    "print(f\"Dot product:\\n{dot_product(m_A, m_B)}\", end=\"\\n\\n\")\n",
    "print(f\"Dot product, por función numpy.dot:\\n{np.dot(m_A, m_B)}\", end=\"\\n\\n\")"
   ]
  },
  {
   "cell_type": "code",
   "execution_count": null,
   "metadata": {},
   "outputs": [],
   "source": []
  }
 ],
 "metadata": {
  "kernelspec": {
   "display_name": "Python 3",
   "language": "python",
   "name": "python3"
  },
  "language_info": {
   "codemirror_mode": {
    "name": "ipython",
    "version": 3
   },
   "file_extension": ".py",
   "mimetype": "text/x-python",
   "name": "python",
   "nbconvert_exporter": "python",
   "pygments_lexer": "ipython3",
   "version": "3.7.3"
  }
 },
 "nbformat": 4,
 "nbformat_minor": 2
}
