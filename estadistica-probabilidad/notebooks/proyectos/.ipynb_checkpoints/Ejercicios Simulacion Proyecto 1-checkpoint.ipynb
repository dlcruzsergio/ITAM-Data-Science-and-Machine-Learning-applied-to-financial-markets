{
 "cells": [
  {
   "cell_type": "markdown",
   "metadata": {},
   "source": [
    "<h1>Data Science and Machine Learning applied to financial markets<br>Módulo 2. Estatdística y probabilidad<hr>Sergio de la Cruz Badillo</h1>"
   ]
  },
  {
   "cell_type": "code",
   "execution_count": 231,
   "metadata": {},
   "outputs": [],
   "source": [
    "import numpy as np\n",
    "import matplotlib.pyplot as plt "
   ]
  },
  {
   "cell_type": "markdown",
   "metadata": {},
   "source": [
    "# Ejercicio 1 (Blackjack modificado)\n",
    "Considere un juego de baraja inglesa y la siguiente modificación del juego de Blackjack.\n",
    "\n",
    "* Se eligen tres cartas al azar $C_1, C_2, C_3$:\n",
    "\n",
    "* Si $C_1 + C_2 + C_3 \\in \\{ 19,20,21 \\}$, entonces se gana el juego, en otro caso se pierde.\n",
    "\n",
    "Calcule la probabilidad de ganar el juego si:\n",
    "\n",
    "1. Las cartas se eligen con reemplazo.\n",
    "\n",
    "2. Las cartas se eligen sin reemplazo.\n",
    "\n",
    "Recuerde, la baraja inglesa está compuesta por 52 cartas y para cada figura (espadas, diamantes, tréboles y corazones) se tiene:\n",
    "\n",
    "* Cartas numeradas del 2 al 10\n",
    "* Joto, reina, rey y as.\n",
    "* Joto, reina y rey valen 10\n",
    "* A diferencia del blackjack original, el as tendrá un valor de 11\n",
    "\n",
    "Utilice 1e5 simulaciones y exprese su resultado redondeando a 3 decimales.\n",
    "Fije la siguiente semilla\n",
    "```python\n",
    "np.random.seed(54321)\n",
    "```"
   ]
  },
  {
   "cell_type": "code",
   "execution_count": 238,
   "metadata": {},
   "outputs": [],
   "source": [
    "def do_blackjack(value_cards=np.array([2,3,4,5,6,7,8,9,10, 10,10,10, 11]*4), n_sim=int(1e5), repl=False):\n",
    "    \"\"\"\n",
    "    Función para realizar un número de simulaciones de un juego de blackjack modificado donde \n",
    "    la baraja inglesa esta compuesta por 52 cartas, las cuales se encuentran agrupadas en \n",
    "    conjuntos de 13 cartas de acuerdo a la figura de espadas, diamantes, tréboles y corazones.\n",
    "    La modificación del juego se ve reflejada en los valores de las cartas:\n",
    "    \n",
    "        - Las nueve cartas numerales tienen el valor de 2 al 10, respectivamente.\n",
    "        - Las primeras tres cartas literales (jack, queen y king) tienen el valor de 10.\n",
    "        - La cuarta carta literal (as) tiene el valor de 11.\n",
    "        \n",
    "    Durante el juego se deberñá de tomar 3 cartas al azar 𝐶1,𝐶2,𝐶3. Se gana el juego siempre y\n",
    "    cuando se cumpla la condición 𝐶1+𝐶2+𝐶3∈{19,20,21}.\n",
    "    \n",
    "    ENTRADA:\n",
    "    value_cards: conjunto de los valores de cada carta, el valor por defecto es \n",
    "    np.array([2,3,4,5,6,7,8,9,10, 10,10,10, 11]*4).\n",
    "    \n",
    "    n_sim: número de simulaciones, el valor por defecto es int(1e5).\n",
    "    \n",
    "    repl: boolean que indica si se requiere realizar la selección de cartas con o sin \n",
    "    reemplazo, el valor por defecto es False.\n",
    "    \"\"\"\n",
    "    np.random.seed(54321)\n",
    "    \n",
    "    p_values = np.array([1/len(value_cards)] * len(value_cards))\n",
    "    total_bien = 0\n",
    "    total_mal = 0\n",
    "\n",
    "    for i in range(0, n_sim):\n",
    "        my_cards = np.random.choice(value_cards, size=3, replace=repl)    \n",
    "        total = sum(my_cards)\n",
    "\n",
    "        if total==19 or total==20 or total==21:\n",
    "            total_bien += 1\n",
    "        else:\n",
    "            total_mal += 1\n",
    "            \n",
    "    print(f\"Exitosos: {total_bien}\")\n",
    "    print(f\"No exitosos: {total_mal}\")\n",
    "    print(f\"Probabilidad: {round(total_bien/n_sim, 3)}\")"
   ]
  },
  {
   "cell_type": "code",
   "execution_count": 239,
   "metadata": {},
   "outputs": [
    {
     "name": "stdout",
     "output_type": "stream",
     "text": [
      "** Sin reemplazo\n",
      "Exitosos: 18957\n",
      "No exitosos: 81043\n",
      "Probabilidad: 0.19\n",
      "\n",
      "** Con reemplazo\n",
      "Exitosos: 18801\n",
      "No exitosos: 81199\n",
      "Probabilidad: 0.188\n"
     ]
    }
   ],
   "source": [
    "value_cards = np.array([2,3,4,5,6,7,8,9,10, 10,10,10, 11]*4)\n",
    "print(\"** Sin reemplazo\")  \n",
    "do_blackjack(value_cards, int(1e5), False)\n",
    "print(\"\")\n",
    "print(\"** Con reemplazo\")\n",
    "do_blackjack(value_cards, int(1e5), True)"
   ]
  },
  {
   "cell_type": "markdown",
   "metadata": {},
   "source": [
    "# Ejercicio 2 (Problema del cumpleaños modificado)\n",
    "Suponga que se tiene un cuarto con $N$ personas y que el número de días en el año es de $365$.\n",
    "1. Utilizando simulación calcule la probabilidad de que **al menos** tres personas cumplan años el mismo día\n",
    "para $N \\in \\{ 15, 20, 25, 30, 35, 40, 45, 50,...,100 \\}$.\n",
    "\n",
    "2. Grafique sus resultados.\n",
    "\n",
    "Para calcular cada probabilidad utilice 1e4 simulaciones.\n",
    "\n",
    "Fije la siguiente semilla\n",
    "```python\n",
    "np.random.seed(54321)\n",
    "```"
   ]
  },
  {
   "cell_type": "code",
   "execution_count": 234,
   "metadata": {},
   "outputs": [],
   "source": [
    "def do_birthday(student_array=np.arange(15, 101, 5), n_sim=int(1e4)):\n",
    "    \"\"\"\n",
    "    Función para realizar un número de simulaciones teniendo un número de personas en un \n",
    "    cuarto y de esta manera obtener un arreglo con el número de frecuencia de al menos 3 \n",
    "    personas diferentes que cumplan años el mismo día. La función ejecuta el mismo número \n",
    "    de simulaciones por cada número diferente de personas en un cuarto.\n",
    "    \n",
    "    ENTRADA:\n",
    "    student_array: número de personas en un cuarto, el valor por defecto es \n",
    "    𝑁∈{15,20,25,30,35,40,45,50,...,100}.\n",
    "    \n",
    "    n_sim: número de simulaciones, el valor por defecto es int(1e4).\n",
    "    \"\"\"\n",
    "    np.random.seed(54321)\n",
    "\n",
    "    repeated_array = []\n",
    "\n",
    "    for n_student in student_array:\n",
    "        total = 0\n",
    "\n",
    "        for i in range(0, n_sim):\n",
    "            birthday = np.random.choice(np.arange(1, 366), size=n_student, replace=True)\n",
    "            uniques, unique_index, counts = np.unique(birthday, return_index=True, return_counts=True)\n",
    "            \n",
    "            if len(birthday[unique_index[counts>=3]]) >= 1:\n",
    "                total += 1\n",
    "                \n",
    "        repeated_array.append((total/n_sim))\n",
    "        \n",
    "    return np.array(repeated_array)\n",
    "\n",
    "\n",
    "def do_birthday_chart(student_array, birthday_array, print_data=True):\n",
    "    \"\"\"\n",
    "    Función para graficar la frecuencia de al menos 3 personas diferentes que cumplan años \n",
    "    el mismo día. La función también permite imprimir el número de personas y la probabilidad \n",
    "    de la frecuencia de cumpleaños en el mismo día.\n",
    "    \n",
    "    ENTRADA:\n",
    "    student_array: número de personas en un cuarto, el valor por defecto es \n",
    "    𝑁∈{15,20,25,30,35,40,45,50,...,100}.\n",
    "    \n",
    "    birthday_array: probabilidad de la frecuencia de cumpleaños en el mismo día.\n",
    "    \n",
    "    print_data: boolean que indica si se requiere mostrar información sobre el número \n",
    "    de personas en un cuarto y la probabilidad de la frecuencia de cumpleaños en el mismo día.\n",
    "    \"\"\"\n",
    "    if print_data:\n",
    "        print(f\"No. personas: {student_array}\")\n",
    "        print(f\"Probabilidad: {birthday_array}\")\n",
    "        \n",
    "    plt.plot(student_array, birthday_array)\n",
    "    plt.xlabel('No. personas en un cuarto') \n",
    "    plt.ylabel('Frecuencia de cumpleaños, al menos 3')\n",
    "    plt.title('Cumpleaños en el mismo día, al menos 3')\n",
    "    plt.show()"
   ]
  },
  {
   "cell_type": "code",
   "execution_count": 235,
   "metadata": {},
   "outputs": [
    {
     "name": "stdout",
     "output_type": "stream",
     "text": [
      "** Probabilidad\n",
      "No. personas: [ 15  20  25  30  35  40  45  50  55  60  65  70  75  80  85  90  95 100]\n",
      "Probabilidad: [0.0036 0.0085 0.0157 0.0297 0.0451 0.0666 0.0935 0.1298 0.1607 0.2031\n",
      " 0.2472 0.3082 0.3598 0.4221 0.4805 0.5377 0.5904 0.6433]\n"
     ]
    },
    {
     "data": {
      "image/png": "[encoded data removed]",
      "text/plain": [
       "<Figure size 432x288 with 1 Axes>"
      ]
     },
     "metadata": {
      "needs_background": "light"
     },
     "output_type": "display_data"
    }
   ],
   "source": [
    "print(\"** Probabilidad\") \n",
    "student_array = np.arange(15, 101, 5)\n",
    "birthday_array = do_birthday(student_array, int(1e4))\n",
    "do_birthday_chart(student_array, birthday_array)"
   ]
  },
  {
   "cell_type": "markdown",
   "metadata": {},
   "source": [
    "# Ejercicio 3\n",
    "Considere un juego que consiste de 20 partidas. En cada una de ellas se seleccionan $5$ número al azar (con reemplazo). Estos números provienen del conjunto $A = \\{1, 2, 3, 9, 23, 37 \\}$ (números equiprobables) y se gana cuando la suma de los $5$ números es un múltiplo de $3$ o $5$.\n",
    "\n",
    "Cada vez que se gana una partida, se recibe $\\$1$, mientras que cada vez que se pierde se paga $\\$0.50$.\n",
    "\n",
    "Calcule lo siguiente:\n",
    "* $\\mathbb{P}[Dinero \\geq 0]$.\n",
    "* $\\mathbb{P}[Dinero < 0 ]$.\n",
    "* Dinero promedio que se gana.\n",
    "* Dinero promedio que se pierde.\n",
    "\n",
    "Suponga que inicia con $0$ pesos y no tiene límite de dinero (juega hasta que terminan las 20 partidas).\n",
    "\n",
    "Utilice 1e4 simulaciones.\n",
    "\n",
    "Fije la siguiente semilla\n",
    "```python\n",
    "np.random.seed(54321)\n",
    "```"
   ]
  },
  {
   "cell_type": "code",
   "execution_count": 236,
   "metadata": {},
   "outputs": [],
   "source": [
    "def do_modulo(dividend, divisor):\n",
    "    \"\"\"\n",
    "    Función para calcular si un número es multiplo de otro por medio del modulo de la división.\n",
    "    \n",
    "    ENTRADA:\n",
    "    dividend: número como dividiendo.\n",
    "    \n",
    "    divisor: número como divisor.\n",
    "    \n",
    "    SALIDA:\n",
    "    boolean: indicando si es multiplo de otro número.\n",
    "    \"\"\"\n",
    "    if (dividend%divisor) == 0:\n",
    "        return True\n",
    "    return False\n",
    "\n",
    "\n",
    "def do_crazy_game(option_array=np.array([1,2,3,9,23,37]), n_sim=int(1e4), games=20):\n",
    "    \"\"\"\n",
    "    Función para realizar un número de simulaciones de un juego de 20 partidas donde \n",
    "    se gana cuando la suma de los 5 números seleccionados es un múltiplo de 3 o 5. \n",
    "    Cada vez que se gana una partida, se recibe $1, mientras que cada vez que se pierde \n",
    "    se paga $0.50. En cada partida se seleccionan 5 números al azar, con reemplazo, los \n",
    "    cuales provienen del conjunto 𝐴={1,2,3,9,23,37} y son números equiprobables.\n",
    "    \n",
    "    ENTRADA:\n",
    "    option_array: conjunto de números, los cuales deberán ser seleccionados en cada partida,\n",
    "    el valor por defecto es 𝐴={1,2,3,9,23,37}.\n",
    "    \n",
    "    n_sim: número de simulaciones a realizar, el valor por defecto es int(1e4).\n",
    "    \n",
    "    games: número de partidas divisor, el valor por defecto es 20.\n",
    "    \"\"\"\n",
    "    np.random.seed(54321)\n",
    "    \n",
    "    p_values = np.array([1/len(option_array)] * len(option_array))\n",
    "    n_won = 0\n",
    "    n_lost = 0\n",
    "    n_won_array = []\n",
    "    n_lost_array = []\n",
    "    \n",
    "    for i in range(0, n_sim):\n",
    "        money = float(0)\n",
    "            \n",
    "        for i in range(0, games):\n",
    "            total = sum(np.random.choice(option_array, size=5, replace=True, p=p_values))\n",
    "            \n",
    "            if do_modulo(total, 3) or do_modulo(total, 5):\n",
    "                money += 1\n",
    "            else:\n",
    "                money -= 0.5\n",
    "                \n",
    "        if money >= 0:\n",
    "            n_won += 1\n",
    "            n_won_array.append(money)\n",
    "        else:\n",
    "            n_lost += 1\n",
    "            n_lost_array.append(money)\n",
    "        \n",
    "    print(f\"** Inf. Juegos...\")\n",
    "    print(f\"Juegos ganados: {n_won}\")\n",
    "    print(f\"Juegos perdidos: {n_lost}\")\n",
    "    print(\"\")\n",
    "    print(f\"** Probabilidad...\")\n",
    "    print(f\"P(ganados): {n_won/n_sim}\")\n",
    "    print(f\"P(perdidos): {n_lost/n_sim}\")\n",
    "    print(\"\")\n",
    "    print(f\"** Promedio de dinero...\")\n",
    "    print(f\"Dinero promedio ganado: {np.mean(n_won_array)}\")\n",
    "    print(f\"Dinero promedio perdido: {(np.mean(n_lost_array))}\")"
   ]
  },
  {
   "cell_type": "code",
   "execution_count": 237,
   "metadata": {},
   "outputs": [
    {
     "name": "stdout",
     "output_type": "stream",
     "text": [
      "** Inf. Juegos...\n",
      "Juegos ganados: 8754\n",
      "Juegos perdidos: 1246\n",
      "\n",
      "** Probabilidad...\n",
      "P(ganados): 0.8754\n",
      "P(perdidos): 0.1246\n",
      "\n",
      "** Promedio de dinero...\n",
      "Dinero promedio ganado: 4.450308430431803\n",
      "Dinero promedio perdido: -1.9498394863563402\n"
     ]
    }
   ],
   "source": [
    "option_array = np.array([1,2,3,9,23,37])\n",
    "do_crazy_game(option_array, int(1e4))"
   ]
  }
 ],
 "metadata": {
  "kernelspec": {
   "display_name": "Python 3",
   "language": "python",
   "name": "python3"
  },
  "language_info": {
   "codemirror_mode": {
    "name": "ipython",
    "version": 3
   },
   "file_extension": ".py",
   "mimetype": "text/x-python",
   "name": "python",
   "nbconvert_exporter": "python",
   "pygments_lexer": "ipython3",
   "version": "3.7.3"
  }
 },
 "nbformat": 4,
 "nbformat_minor": 2
}
