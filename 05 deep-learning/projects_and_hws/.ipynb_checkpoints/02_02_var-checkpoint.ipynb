{
 "cells": [
  {
   "cell_type": "markdown",
   "metadata": {},
   "source": [
    "<h3>Libraries</h3>"
   ]
  },
  {
   "cell_type": "code",
   "execution_count": 4,
   "metadata": {},
   "outputs": [],
   "source": [
    "import pandas as pd\n",
    "import numpy as np\n",
    "import matplotlib.pyplot as plt\n",
    "import seaborn as sns\n",
    "\n",
    "from scipy.optimize import minimize"
   ]
  },
  {
   "cell_type": "markdown",
   "metadata": {},
   "source": [
    "# CAPM \n",
    "\n",
    "\n",
    "$$\n",
    "    r_M \\sim \\mathcal{N}(\\alpha + \\beta r_A, \\varepsilon) \\ \\forall A\n",
    "$$"
   ]
  },
  {
   "cell_type": "markdown",
   "metadata": {},
   "source": [
    "$$\n",
    "    {\\bf w} = (\\Phi^T\\Phi)^{-1} \\Phi{\\bf t}\n",
    "$$"
   ]
  },
  {
   "cell_type": "markdown",
   "metadata": {},
   "source": [
    "## Optimización de los pesos"
   ]
  },
  {
   "cell_type": "code",
   "execution_count": 5,
   "metadata": {
    "scrolled": true
   },
   "outputs": [
    {
     "name": "stdout",
     "output_type": "stream",
     "text": [
      "ASURB       0.123539\n",
      "GFNORTEO    0.078811\n",
      "PE&OLES*    0.111053\n",
      "WALMEX*     0.082426\n",
      "IENOVA*     0.078997\n",
      "dtype: float64\n"
     ]
    },
    {
     "data": {
      "text/html": [
       "<div>\n",
       "<style scoped>\n",
       "    .dataframe tbody tr th:only-of-type {\n",
       "        vertical-align: middle;\n",
       "    }\n",
       "\n",
       "    .dataframe tbody tr th {\n",
       "        vertical-align: top;\n",
       "    }\n",
       "\n",
       "    .dataframe thead th {\n",
       "        text-align: right;\n",
       "    }\n",
       "</style>\n",
       "<table border=\"1\" class=\"dataframe\">\n",
       "  <thead>\n",
       "    <tr style=\"text-align: right;\">\n",
       "      <th></th>\n",
       "      <th>ASURB</th>\n",
       "      <th>GFNORTEO</th>\n",
       "      <th>PE&amp;OLES*</th>\n",
       "      <th>WALMEX*</th>\n",
       "      <th>IENOVA*</th>\n",
       "    </tr>\n",
       "    <tr>\n",
       "      <th>DATE</th>\n",
       "      <th></th>\n",
       "      <th></th>\n",
       "      <th></th>\n",
       "      <th></th>\n",
       "      <th></th>\n",
       "    </tr>\n",
       "  </thead>\n",
       "  <tbody>\n",
       "    <tr>\n",
       "      <th>2016-01-01</th>\n",
       "      <td>243.89</td>\n",
       "      <td>94.99</td>\n",
       "      <td>177.22</td>\n",
       "      <td>43.49</td>\n",
       "      <td>72.34</td>\n",
       "    </tr>\n",
       "    <tr>\n",
       "      <th>2016-01-04</th>\n",
       "      <td>238.29</td>\n",
       "      <td>91.79</td>\n",
       "      <td>175.90</td>\n",
       "      <td>42.84</td>\n",
       "      <td>72.98</td>\n",
       "    </tr>\n",
       "    <tr>\n",
       "      <th>2016-01-05</th>\n",
       "      <td>233.03</td>\n",
       "      <td>91.72</td>\n",
       "      <td>176.45</td>\n",
       "      <td>42.66</td>\n",
       "      <td>71.48</td>\n",
       "    </tr>\n",
       "    <tr>\n",
       "      <th>2016-01-06</th>\n",
       "      <td>231.97</td>\n",
       "      <td>91.63</td>\n",
       "      <td>172.68</td>\n",
       "      <td>42.38</td>\n",
       "      <td>70.94</td>\n",
       "    </tr>\n",
       "    <tr>\n",
       "      <th>2016-01-07</th>\n",
       "      <td>230.71</td>\n",
       "      <td>89.54</td>\n",
       "      <td>172.94</td>\n",
       "      <td>39.99</td>\n",
       "      <td>72.31</td>\n",
       "    </tr>\n",
       "  </tbody>\n",
       "</table>\n",
       "</div>"
      ],
      "text/plain": [
       "             ASURB  GFNORTEO  PE&OLES*  WALMEX*  IENOVA*\n",
       "DATE                                                    \n",
       "2016-01-01  243.89     94.99    177.22    43.49    72.34\n",
       "2016-01-04  238.29     91.79    175.90    42.84    72.98\n",
       "2016-01-05  233.03     91.72    176.45    42.66    71.48\n",
       "2016-01-06  231.97     91.63    172.68    42.38    70.94\n",
       "2016-01-07  230.71     89.54    172.94    39.99    72.31"
      ]
     },
     "execution_count": 5,
     "metadata": {},
     "output_type": "execute_result"
    }
   ],
   "source": [
    "dataset = pd.read_excel(\"./utils/PreciosPortf.xlsx\", index_col=0)\n",
    "rend = dataset.pct_change().dropna()\n",
    "\n",
    "columnas2 = []\n",
    "\n",
    "for c in dataset.columns:\n",
    "    columnas2.append(c.replace(\" MF Equity\",\"\"))\n",
    "\n",
    "dataset.columns = columnas2\n",
    "rend.columns = columnas2\n",
    "\n",
    "rend_ports = rend.mean() * 252\n",
    "print(rend_ports)\n",
    "\n",
    "dataset.head()"
   ]
  },
  {
   "cell_type": "code",
   "execution_count": 6,
   "metadata": {},
   "outputs": [
    {
     "data": {
      "text/html": [
       "<div>\n",
       "<style scoped>\n",
       "    .dataframe tbody tr th:only-of-type {\n",
       "        vertical-align: middle;\n",
       "    }\n",
       "\n",
       "    .dataframe tbody tr th {\n",
       "        vertical-align: top;\n",
       "    }\n",
       "\n",
       "    .dataframe thead th {\n",
       "        text-align: right;\n",
       "    }\n",
       "</style>\n",
       "<table border=\"1\" class=\"dataframe\">\n",
       "  <thead>\n",
       "    <tr style=\"text-align: right;\">\n",
       "      <th></th>\n",
       "      <th>ASURB</th>\n",
       "      <th>GFNORTEO</th>\n",
       "      <th>PE&amp;OLES*</th>\n",
       "      <th>WALMEX*</th>\n",
       "      <th>IENOVA*</th>\n",
       "    </tr>\n",
       "    <tr>\n",
       "      <th>DATE</th>\n",
       "      <th></th>\n",
       "      <th></th>\n",
       "      <th></th>\n",
       "      <th></th>\n",
       "      <th></th>\n",
       "    </tr>\n",
       "  </thead>\n",
       "  <tbody>\n",
       "    <tr>\n",
       "      <th>2016-01-04</th>\n",
       "      <td>-0.022961</td>\n",
       "      <td>-0.033688</td>\n",
       "      <td>-0.007448</td>\n",
       "      <td>-0.014946</td>\n",
       "      <td>0.008847</td>\n",
       "    </tr>\n",
       "    <tr>\n",
       "      <th>2016-01-05</th>\n",
       "      <td>-0.022074</td>\n",
       "      <td>-0.000763</td>\n",
       "      <td>0.003127</td>\n",
       "      <td>-0.004202</td>\n",
       "      <td>-0.020554</td>\n",
       "    </tr>\n",
       "    <tr>\n",
       "      <th>2016-01-06</th>\n",
       "      <td>-0.004549</td>\n",
       "      <td>-0.000981</td>\n",
       "      <td>-0.021366</td>\n",
       "      <td>-0.006564</td>\n",
       "      <td>-0.007555</td>\n",
       "    </tr>\n",
       "    <tr>\n",
       "      <th>2016-01-07</th>\n",
       "      <td>-0.005432</td>\n",
       "      <td>-0.022809</td>\n",
       "      <td>0.001506</td>\n",
       "      <td>-0.056395</td>\n",
       "      <td>0.019312</td>\n",
       "    </tr>\n",
       "    <tr>\n",
       "      <th>2016-01-08</th>\n",
       "      <td>-0.004118</td>\n",
       "      <td>-0.007706</td>\n",
       "      <td>-0.003180</td>\n",
       "      <td>0.026007</td>\n",
       "      <td>-0.017148</td>\n",
       "    </tr>\n",
       "  </tbody>\n",
       "</table>\n",
       "</div>"
      ],
      "text/plain": [
       "               ASURB  GFNORTEO  PE&OLES*   WALMEX*   IENOVA*\n",
       "DATE                                                        \n",
       "2016-01-04 -0.022961 -0.033688 -0.007448 -0.014946  0.008847\n",
       "2016-01-05 -0.022074 -0.000763  0.003127 -0.004202 -0.020554\n",
       "2016-01-06 -0.004549 -0.000981 -0.021366 -0.006564 -0.007555\n",
       "2016-01-07 -0.005432 -0.022809  0.001506 -0.056395  0.019312\n",
       "2016-01-08 -0.004118 -0.007706 -0.003180  0.026007 -0.017148"
      ]
     },
     "execution_count": 6,
     "metadata": {},
     "output_type": "execute_result"
    }
   ],
   "source": [
    "# Rendimientos diarios\n",
    "rend.head()"
   ]
  },
  {
   "cell_type": "code",
   "execution_count": 7,
   "metadata": {
    "scrolled": true
   },
   "outputs": [
    {
     "data": {
      "text/html": [
       "<div>\n",
       "<style scoped>\n",
       "    .dataframe tbody tr th:only-of-type {\n",
       "        vertical-align: middle;\n",
       "    }\n",
       "\n",
       "    .dataframe tbody tr th {\n",
       "        vertical-align: top;\n",
       "    }\n",
       "\n",
       "    .dataframe thead th {\n",
       "        text-align: right;\n",
       "    }\n",
       "</style>\n",
       "<table border=\"1\" class=\"dataframe\">\n",
       "  <thead>\n",
       "    <tr style=\"text-align: right;\">\n",
       "      <th></th>\n",
       "      <th>ASURB</th>\n",
       "      <th>GFNORTEO</th>\n",
       "      <th>PE&amp;OLES*</th>\n",
       "      <th>WALMEX*</th>\n",
       "      <th>IENOVA*</th>\n",
       "    </tr>\n",
       "  </thead>\n",
       "  <tbody>\n",
       "    <tr>\n",
       "      <th>ASURB</th>\n",
       "      <td>0.000224</td>\n",
       "      <td>0.000086</td>\n",
       "      <td>0.000061</td>\n",
       "      <td>0.000036</td>\n",
       "      <td>0.000044</td>\n",
       "    </tr>\n",
       "    <tr>\n",
       "      <th>GFNORTEO</th>\n",
       "      <td>0.000086</td>\n",
       "      <td>0.000341</td>\n",
       "      <td>0.000094</td>\n",
       "      <td>0.000082</td>\n",
       "      <td>0.000082</td>\n",
       "    </tr>\n",
       "    <tr>\n",
       "      <th>PE&amp;OLES*</th>\n",
       "      <td>0.000061</td>\n",
       "      <td>0.000094</td>\n",
       "      <td>0.000548</td>\n",
       "      <td>0.000041</td>\n",
       "      <td>0.000045</td>\n",
       "    </tr>\n",
       "    <tr>\n",
       "      <th>WALMEX*</th>\n",
       "      <td>0.000036</td>\n",
       "      <td>0.000082</td>\n",
       "      <td>0.000041</td>\n",
       "      <td>0.000215</td>\n",
       "      <td>0.000043</td>\n",
       "    </tr>\n",
       "    <tr>\n",
       "      <th>IENOVA*</th>\n",
       "      <td>0.000044</td>\n",
       "      <td>0.000082</td>\n",
       "      <td>0.000045</td>\n",
       "      <td>0.000043</td>\n",
       "      <td>0.000226</td>\n",
       "    </tr>\n",
       "  </tbody>\n",
       "</table>\n",
       "</div>"
      ],
      "text/plain": [
       "             ASURB  GFNORTEO  PE&OLES*   WALMEX*   IENOVA*\n",
       "ASURB     0.000224  0.000086  0.000061  0.000036  0.000044\n",
       "GFNORTEO  0.000086  0.000341  0.000094  0.000082  0.000082\n",
       "PE&OLES*  0.000061  0.000094  0.000548  0.000041  0.000045\n",
       "WALMEX*   0.000036  0.000082  0.000041  0.000215  0.000043\n",
       "IENOVA*   0.000044  0.000082  0.000045  0.000043  0.000226"
      ]
     },
     "execution_count": 7,
     "metadata": {},
     "output_type": "execute_result"
    }
   ],
   "source": [
    "# Varianza-covarianza\n",
    "rend.cov()"
   ]
  },
  {
   "cell_type": "code",
   "execution_count": 8,
   "metadata": {},
   "outputs": [
    {
     "name": "stdout",
     "output_type": "stream",
     "text": [
      "weights => [0.20980915 0.22133726 0.03061494 0.32931447 0.20892417]\n",
      "sum(weights) => 1.0\n",
      "\n"
     ]
    }
   ],
   "source": [
    "varcov = rend.cov()\n",
    "\n",
    "weights = np.random.random(5)\n",
    "weights /= sum(weights)\n",
    "print(\"weights => {}\".format(weights))\n",
    "print(\"sum(weights) => {}\\n\".format(sum(weights)))"
   ]
  },
  {
   "cell_type": "code",
   "execution_count": 9,
   "metadata": {},
   "outputs": [
    {
     "data": {
      "text/plain": [
       "0.09041182974475742"
      ]
     },
     "execution_count": 9,
     "metadata": {},
     "output_type": "execute_result"
    }
   ],
   "source": [
    "(rend.mean() * weights).sum() * 252"
   ]
  },
  {
   "cell_type": "code",
   "execution_count": 10,
   "metadata": {},
   "outputs": [
    {
     "name": "stdout",
     "output_type": "stream",
     "text": [
      "E_p => 0.09041182974475744\n",
      "S_p => 0.16337233284985275\n"
     ]
    }
   ],
   "source": [
    "E_p = (rend.mean() @ weights) * 252\n",
    "S_p = np.sqrt(weights.T @ (rend.cov() * 252) @ weights)\n",
    "print(\"E_p => {}\".format(E_p))\n",
    "print(\"S_p => {}\".format(S_p))"
   ]
  },
  {
   "cell_type": "code",
   "execution_count": 11,
   "metadata": {},
   "outputs": [
    {
     "name": "stdout",
     "output_type": "stream",
     "text": [
      "port_rend(weights, rend) => 0.09041182974475744\n",
      "port_vol(weights, rend => 0.16337233284985275\n"
     ]
    }
   ],
   "source": [
    "def port_rend(weights, r):\n",
    "    E_p = (r.mean() @ weights) * 252\n",
    "    return E_p\n",
    "\n",
    "def port_vol(weights, r):\n",
    "    S_p = np.sqrt(weights.T @ (r.cov() * 252) @ weights)\n",
    "    return S_p\n",
    "\n",
    "print(\"port_rend(weights, rend) => {}\".format(port_rend(weights, rend)))\n",
    "print(\"port_vol(weights, rend => {}\".format(port_vol(weights, rend)))"
   ]
  },
  {
   "cell_type": "code",
   "execution_count": 12,
   "metadata": {},
   "outputs": [],
   "source": [
    "weights_sim = np.random.random((5000, 5))\n",
    "weights_sim = weights_sim / weights_sim.sum(axis=1, keepdims=True)\n",
    "\n",
    "rend_sim = np.apply_along_axis(port_rend, 1, weights_sim, r=rend)\n",
    "vol_sim = np.apply_along_axis(port_vol, 1, weights_sim, r=rend)"
   ]
  },
  {
   "cell_type": "code",
   "execution_count": 13,
   "metadata": {},
   "outputs": [
    {
     "data": {
      "image/png": "[encoded data removed]",
      "text/plain": [
       "<Figure size 432x288 with 2 Axes>"
      ]
     },
     "metadata": {
      "needs_background": "light"
     },
     "output_type": "display_data"
    }
   ],
   "source": [
    "# Ratio para cada escenario simulado\n",
    "sharpe_ratio = rend_sim / vol_sim\n",
    "\n",
    "plt.scatter(vol_sim, rend_sim, c=sharpe_ratio)\n",
    "plt.colorbar(label=\"Sharpe Ratio\")\n",
    "plt.xlabel(r\"$\\sigma^2_r$\", fontsize=13)\n",
    "plt.ylabel(\"E(r)\", fontsize=13);"
   ]
  },
  {
   "cell_type": "markdown",
   "metadata": {},
   "source": [
    "### Creando la frontera eficiente\n",
    "\n",
    "$$\n",
    "\\begin{aligned}\n",
    "    \\min \\ &{\\bf w}^T\\Sigma {\\bf w} \\\\\n",
    "    s.t.\\ & {\\bf w}^T {\\bf 1} = 1 \\\\\n",
    "\\end{aligned}\n",
    "$$"
   ]
  },
  {
   "cell_type": "markdown",
   "metadata": {},
   "source": [
    "### Optimización sujeta a un rendimiento esperado\n",
    "\n",
    "\n",
    "$$\n",
    "\\begin{aligned}\n",
    "    \\min \\ &{\\bf w}^T\\Sigma {\\bf w} \\\\\n",
    "    s.t.\\ & {\\bf w}^T {\\bf 1} = 1 \\\\\n",
    "    &{\\bf w}^T R_p = E\n",
    "\\end{aligned}\n",
    "$$"
   ]
  },
  {
   "cell_type": "code",
   "execution_count": 14,
   "metadata": {},
   "outputs": [],
   "source": [
    "N, M = rend.shape\n",
    "w0  = np.random.randn(M)\n",
    "rend_maxs = np.linspace(rend_ports.min(), rend_ports.max())\n",
    "\n",
    "def sum_weights(weights):\n",
    "    return weights.sum() - 1 # == 0\n",
    "\n",
    "def rend_esperado(w, E):\n",
    "    return port_rend(w, rend) - E # == 0\n",
    "\n",
    "def neg_weights(weights):\n",
    "    return min(weights)\n"
   ]
  },
  {
   "cell_type": "code",
   "execution_count": 15,
   "metadata": {},
   "outputs": [],
   "source": [
    "pesos_optimos = []\n",
    "N, M = rend.shape\n",
    "w_opt = np.random.randn(M)\n",
    "\n",
    "for e in rend_maxs: #para cada uno de los rendimiento que voy a evaluar y graficar en el eje x\n",
    "    constraints = [\n",
    "        {\"type\": \"eq\", \"fun\": sum_weights},\n",
    "        {\"type\": \"eq\", \"fun\": lambda w: rend_esperado(w, e)}\n",
    "    ]\n",
    "\n",
    "    port1 = minimize(port_vol, w0, constraints=constraints, args=rend)\n",
    "    w_opt = port1.x\n",
    "    pesos_optimos.append(w_opt)\n"
   ]
  },
  {
   "cell_type": "code",
   "execution_count": 16,
   "metadata": {},
   "outputs": [
    {
     "data": {
      "text/plain": [
       "<matplotlib.colorbar.Colorbar at 0x1a1f3195d0>"
      ]
     },
     "execution_count": 16,
     "metadata": {},
     "output_type": "execute_result"
    },
    {
     "data": {
      "image/png": "[encoded data removed]",
      "text/plain": [
       "<Figure size 432x288 with 2 Axes>"
      ]
     },
     "metadata": {
      "needs_background": "light"
     },
     "output_type": "display_data"
    }
   ],
   "source": [
    "r_opt = []\n",
    "v_opt = []\n",
    "\n",
    "for w in pesos_optimos:\n",
    "    r_opt.append(port_rend(w, rend))\n",
    "    v_opt.append(port_vol(w, rend))\n",
    "\n",
    "r_opt = np.array(r_opt)\n",
    "v_opt = np.array(v_opt)\n",
    "\n",
    "plt.scatter(v_opt, r_opt, c=r_opt)\n",
    "plt.colorbar()"
   ]
  },
  {
   "cell_type": "code",
   "execution_count": 17,
   "metadata": {
    "scrolled": true
   },
   "outputs": [
    {
     "data": {
      "image/png": "[encoded data removed]",
      "text/plain": [
       "<Figure size 432x288 with 2 Axes>"
      ]
     },
     "metadata": {
      "needs_background": "light"
     },
     "output_type": "display_data"
    }
   ],
   "source": [
    "plt.scatter(v_opt,r_opt, c= \"black\",alpha=.5)\n",
    "plt.scatter(vol_sim, rend_sim, c=sharpe_ratio, alpha = 0.5)\n",
    "plt.colorbar(label=\"Sharpe Ratio\",)\n",
    "plt.xlabel(r\"$\\sigma^2_r$\", fontsize=13)\n",
    "plt.ylabel(\"E(r)\",fontsize=13);"
   ]
  },
  {
   "cell_type": "markdown",
   "metadata": {},
   "source": [
    "### Portafolio Tangencial\n",
    "\n",
    "$$\n",
    "    \\mathbb{E}[R_C] = R_f + \\frac{\\mathbb{E}[R_p] - R_f}{\\sigma_P}\\sigma_C\n",
    "$$\n",
    "\n",
    "$$\n",
    "\\frac{\\mathbb{E}[R_p] - R_f}{\\sigma_P}\n",
    "$$"
   ]
  },
  {
   "cell_type": "code",
   "execution_count": 18,
   "metadata": {},
   "outputs": [
    {
     "name": "stdout",
     "output_type": "stream",
     "text": [
      "f_sharpe =>\n",
      "\n",
      "     fun: -0.2918522976684256\n",
      "     jac: array([-0.30294063, -0.30292967, -0.30290907, -0.30296817, -0.30297143])\n",
      " message: 'Optimization terminated successfully.'\n",
      "    nfev: 332\n",
      "     nit: 43\n",
      "    njev: 43\n",
      "  status: 0\n",
      " success: True\n",
      "       x: array([ 0.73107055, -0.14059211,  0.17631457,  0.16469195,  0.06851504])\n",
      "\n"
     ]
    }
   ],
   "source": [
    "rf = 0.06\n",
    "\n",
    "def min_func_sharpe(weights):\n",
    "    return - (port_rend(weights, rend) - rf) / port_vol(weights, rend)\n",
    "\n",
    "constraints = [\n",
    "    {\"type\": \"eq\", \"fun\": sum_weights}\n",
    "]\n",
    "\n",
    "f_sharpe = minimize(min_func_sharpe, w0, constraints=constraints)\n",
    "print(\"f_sharpe =>\\n\\n{}\\n\".format(f_sharpe))\n"
   ]
  },
  {
   "cell_type": "code",
   "execution_count": 19,
   "metadata": {
    "scrolled": true
   },
   "outputs": [
    {
     "data": {
      "text/plain": [
       "<matplotlib.legend.Legend at 0x1a1e0a2650>"
      ]
     },
     "execution_count": 19,
     "metadata": {},
     "output_type": "execute_result"
    },
    {
     "data": {
      "image/png": "[encoded data removed]",
      "text/plain": [
       "<Figure size 432x288 with 1 Axes>"
      ]
     },
     "metadata": {
      "needs_background": "light"
     },
     "output_type": "display_data"
    }
   ],
   "source": [
    "w_sharpe = f_sharpe.x\n",
    "\n",
    "e_sharpe = port_rend(w_sharpe, rend)\n",
    "vol_sharpe = port_vol(w_sharpe, rend)\n",
    "\n",
    "sigma_c =  np.linspace(0, 0.25)\n",
    "sharpe = rf + sigma_c * (e_sharpe - rf) / vol_sharpe\n",
    "\n",
    "plt.plot(sigma_c, sharpe, linestyle=\"--\", c=\"tab:orange\", label=\"Capital Allocation Line\")\n",
    "plt.plot(v_opt, r_opt)\n",
    "plt.legend(fontsize=12)"
   ]
  },
  {
   "cell_type": "code",
   "execution_count": 20,
   "metadata": {},
   "outputs": [],
   "source": [
    "def port_rend(weights):\n",
    "    return np.sum(rend.mean()*weights)*252\n",
    "\n",
    "def port_vol(weights):\n",
    "    return np.sqrt(np.dot(weights.T, np.dot(rend.cov()*252,weights)))"
   ]
  },
  {
   "cell_type": "code",
   "execution_count": 21,
   "metadata": {},
   "outputs": [
    {
     "name": "stdout",
     "output_type": "stream",
     "text": [
      "anuales =>\n",
      "[0.23747683132280767, 0.2932968797198881, 0.3715522629370927, 0.2328565568585489, 0.23842444015669614]\n",
      "\n",
      "posiciones =>\n",
      "[7310705.452154347, -1405921.1121053083, 1763145.732883602, 1646919.5133168132, 685150.4137505465]\n",
      "\n"
     ]
    }
   ],
   "source": [
    "S = 10000000\n",
    "weights = w_sharpe\n",
    "\n",
    "anuales =[]\n",
    "for i in range(5):\n",
    "    anuales.append((np.sqrt(varcov.iloc[i,i]))*np.sqrt(252))\n",
    "print(\"anuales =>\\n{}\\n\".format(anuales))\n",
    "\n",
    "posiciones =[]\n",
    "for i in range(5):\n",
    "    posiciones.append(S*weights[i])\n",
    "print(\"posiciones =>\\n{}\\n\".format(posiciones))"
   ]
  },
  {
   "cell_type": "code",
   "execution_count": 27,
   "metadata": {},
   "outputs": [
    {
     "name": "stdout",
     "output_type": "stream",
     "text": [
      "=========================================================================\n",
      "\n",
      "VaR diario - 95% => 205860.78431069895\n",
      "VaR diario - 99% => 290700.3802690476\n",
      "VaR anual - 95%  => 3267938.6399209\n",
      "VaR anual - 99%  => 4614725.473342846\n",
      "\n",
      "=========================================================================\n",
      "\n",
      "Diversificacion - VaR diario - 95% => 56663.579323021026\n",
      "Diversificacion - VaR diario - 99% => 80015.8423167509\n",
      "Diversificacion - VaR anual - 95%  => 899506.4357009721\n",
      "Diversificacion - VaR anual - 99%  => 1270212.1182928886\n",
      "\n",
      "=========================================================================\n"
     ]
    }
   ],
   "source": [
    "var_95_d = []\n",
    "for i in range(5):\n",
    "    var_95_d.append(1.65*posiciones[i]*(anuales[i]*(1/np.sqrt(252))))\n",
    "    \n",
    "var_99_d = []\n",
    "for i in range(5):\n",
    "    var_99_d.append(2.33*posiciones[i]*(anuales[i]*(1/np.sqrt(252))))\n",
    "    \n",
    "var_95_a = []\n",
    "for i in range(5):\n",
    "    var_95_a.append(1.65*posiciones[i]*(anuales[i]))\n",
    "    \n",
    "var_99_a = []\n",
    "for i in range(5):\n",
    "    var_99_a.append(2.33*posiciones[i]*(anuales[i]))\n",
    "\n",
    "print(\"=========================================================================\\n\")\n",
    "print(\"VaR diario - 95% => {}\".format(S * 1.65 * port_vol(weights) * 1/np.sqrt(252)))\n",
    "print(\"VaR diario - 99% => {}\".format(S * 2.33 * port_vol(weights) * 1/np.sqrt(252)))\n",
    "print(\"VaR anual - 95%  => {}\".format(S * 1.65 * port_vol(weights)))\n",
    "print(\"VaR anual - 99%  => {}\\n\".format(S * 2.33 * port_vol(weights)))\n",
    "print(\"=========================================================================\\n\")\n",
    "print(\"Diversificacion - VaR diario - 95% => {}\".format(\n",
    "    sum(var_95_d)-(S * 1.65 * port_vol(weights) * 1/np.sqrt(252))))\n",
    "print(\"Diversificacion - VaR diario - 99% => {}\".format(\n",
    "    sum(var_99_d)-(S * 2.33 * port_vol(weights) * 1/np.sqrt(252))))\n",
    "print(\"Diversificacion - VaR anual - 95%  => {}\".format(\n",
    "    sum(var_95_a)-(S * 1.65 * port_vol(weights))))\n",
    "print(\"Diversificacion - VaR anual - 99%  => {}\\n\".format(\n",
    "    sum(var_99_a)-(S * 2.33 * port_vol(weights))))\n",
    "print(\"=========================================================================\")"
   ]
  },
  {
   "cell_type": "code",
   "execution_count": null,
   "metadata": {},
   "outputs": [],
   "source": []
  }
 ],
 "metadata": {
  "kernelspec": {
   "display_name": "Python 3",
   "language": "python",
   "name": "python3"
  },
  "language_info": {
   "codemirror_mode": {
    "name": "ipython",
    "version": 3
   },
   "file_extension": ".py",
   "mimetype": "text/x-python",
   "name": "python",
   "nbconvert_exporter": "python",
   "pygments_lexer": "ipython3",
   "version": "3.7.6"
  }
 },
 "nbformat": 4,
 "nbformat_minor": 4
}
