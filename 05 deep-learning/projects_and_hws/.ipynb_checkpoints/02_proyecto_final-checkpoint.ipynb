{
 "cells": [
  {
   "cell_type": "code",
   "execution_count": 66,
   "metadata": {},
   "outputs": [],
   "source": [
    "import numpy as np\n",
    "import random\n",
    "\n",
    "from scipy.stats import norm"
   ]
  },
  {
   "cell_type": "code",
   "execution_count": 67,
   "metadata": {},
   "outputs": [
    {
     "name": "stdout",
     "output_type": "stream",
     "text": [
      "subyacente: 20.67\n",
      "plazo: 90\n",
      "puntos_fwd: 2000\n",
      "precio_fwd: 20.87\n",
      "tasa_usd: 1.7500000000000002%\n",
      "tasa_usd_01: 1.7461830038559993%\n",
      "tasa_implicita_mxn: 5.63727624576682%\n",
      "tasa_implicita_mxn_01: 5.5979219620289955%\n",
      "volatilidad: 24.0%\n",
      "tamano_paso: 1\n"
     ]
    }
   ],
   "source": [
    "subyacente = 20.67\n",
    "plazo = 90\n",
    "puntos_fwd = 2000\n",
    "precio_fwd = subyacente+puntos_fwd/10000\n",
    "tasa_usd = 0.0175 #%\n",
    "tasa_usd_01 = (360/plazo)*np.log(1+tasa_usd*plazo/360)\n",
    "tasa_implicita_mxn = ((precio_fwd/subyacente)*(1+tasa_usd*plazo/360)-1) * (360/plazo) #%\n",
    "tasa_implicita_mxn_01 = (360/plazo)*np.log(1+tasa_implicita_mxn*plazo/360)\n",
    "volatilidad = 0.24 #%\n",
    "tamano_paso = 1 #días\n",
    "\n",
    "print(\"subyacente: {}\".format(subyacente))\n",
    "print(\"plazo: {}\".format(plazo))\n",
    "print(\"puntos_fwd: {}\".format(puntos_fwd))\n",
    "print(\"precio_fwd: {}\".format(precio_fwd))\n",
    "print(\"tasa_usd: {}%\".format(tasa_usd*100))\n",
    "print(\"tasa_usd_01: {}%\".format(tasa_usd_01*100))\n",
    "print(\"tasa_implicita_mxn: {}%\".format(tasa_implicita_mxn*100))\n",
    "print(\"tasa_implicita_mxn_01: {}%\".format(tasa_implicita_mxn_01*100))\n",
    "print(\"volatilidad: {}%\".format(volatilidad*100))\n",
    "print(\"tamano_paso: {}\".format(tamano_paso))"
   ]
  },
  {
   "cell_type": "code",
   "execution_count": 78,
   "metadata": {},
   "outputs": [
    {
     "name": "stdout",
     "output_type": "stream",
     "text": [
      "No. 1 => 20.879793160895915\n",
      "No. 2 => 21.038099557476766\n",
      "No. 3 => 21.248199416577645\n",
      "No. 4 => 21.40757341931937\n",
      "No. 5 => 21.636172352601456\n",
      "No. 6 => 21.786317313753667\n",
      "No. 7 => 21.975212314278412\n",
      "No. 8 => 22.1260939006238\n",
      "No. 9 => 22.30098013889984\n",
      "No. 10 => 22.476052634729875\n",
      "No. 11 => 22.632424419658346\n",
      "No. 12 => 22.786538655234096\n",
      "No. 13 => 22.976446684299145\n",
      "No. 14 => 23.157570469714777\n",
      "No. 15 => 23.39227519532217\n",
      "No. 16 => 23.553736329119726\n",
      "No. 17 => 23.785447630666553\n",
      "No. 18 => 23.979288509030305\n",
      "No. 19 => 24.14770400005668\n",
      "No. 20 => 24.32868166098034\n",
      "No. 21 => 24.522399133810246\n",
      "No. 22 => 24.70764047645872\n",
      "No. 23 => 24.972594878310336\n",
      "No. 24 => 25.228049601397682\n",
      "No. 25 => 25.457253989232317\n",
      "No. 26 => 25.724122545786685\n",
      "No. 27 => 25.98835830331047\n",
      "No. 28 => 26.25797008592009\n",
      "No. 29 => 26.497241882773213\n",
      "No. 30 => 26.7512751659086\n",
      "No. 31 => 27.001221639204875\n",
      "No. 32 => 27.202775920500542\n",
      "No. 33 => 27.416287296248534\n",
      "No. 34 => 27.676904833286663\n",
      "No. 35 => 27.957110020697993\n",
      "No. 36 => 28.23039806680223\n",
      "No. 37 => 28.457677728396007\n",
      "No. 38 => 28.713534323987137\n",
      "No. 39 => 28.904909467787327\n",
      "No. 40 => 29.132592535880935\n",
      "No. 41 => 29.443640414695963\n",
      "No. 42 => 29.73400390271103\n",
      "No. 43 => 29.925290596184013\n",
      "No. 44 => 30.13889945750283\n",
      "No. 45 => 30.43352567574526\n",
      "No. 46 => 30.68244477170436\n",
      "No. 47 => 30.959937901645983\n",
      "No. 48 => 31.253931940687433\n",
      "No. 49 => 31.588011060512287\n",
      "No. 50 => 31.914923342122503\n",
      "No. 51 => 32.247261050113586\n",
      "No. 52 => 32.56706927630096\n",
      "No. 53 => 32.90771245479542\n",
      "No. 54 => 33.1479270893271\n",
      "No. 55 => 33.45175531811134\n",
      "No. 56 => 33.79255419136046\n",
      "No. 57 => 34.106193863428985\n",
      "No. 58 => 34.366693952201494\n",
      "No. 59 => 34.681516026997805\n",
      "No. 60 => 34.91716608595193\n",
      "No. 61 => 35.24623879629544\n",
      "No. 62 => 35.61662560200211\n",
      "No. 63 => 35.97934881426037\n",
      "No. 64 => 36.22458320004703\n",
      "No. 65 => 36.51507608937324\n",
      "No. 66 => 36.88197198126674\n",
      "No. 67 => 37.169530142867\n",
      "No. 68 => 37.55032189156551\n",
      "No. 69 => 37.884385261378824\n",
      "No. 70 => 38.28974018784735\n",
      "No. 71 => 38.68214840177758\n",
      "No. 72 => 39.08979785312687\n",
      "No. 73 => 39.48919700894808\n",
      "No. 74 => 39.74120143598377\n",
      "No. 75 => 40.049288219651835\n",
      "No. 76 => 40.39371482422267\n",
      "No. 77 => 40.81505384037334\n",
      "No. 78 => 41.12934584342444\n",
      "No. 79 => 41.41559574731237\n",
      "No. 80 => 41.79838436565368\n",
      "No. 81 => 42.106134765046164\n",
      "No. 82 => 42.53332810592953\n",
      "No. 83 => 42.84676852876015\n",
      "No. 84 => 43.20346965230132\n",
      "No. 85 => 43.57194630634249\n",
      "No. 86 => 43.97240040383682\n",
      "No. 87 => 44.389466158470064\n",
      "No. 88 => 44.833097099022595\n",
      "No. 89 => 45.212043800051184\n"
     ]
    },
    {
     "ename": "IndexError",
     "evalue": "index 90 is out of bounds for axis 0 with size 90",
     "output_type": "error",
     "traceback": [
      "\u001b[0;31m---------------------------------------------------------------------------\u001b[0m",
      "\u001b[0;31mIndexError\u001b[0m                                Traceback (most recent call last)",
      "\u001b[0;32m<ipython-input-78-e4ed53301f0f>\u001b[0m in \u001b[0;36m<module>\u001b[0;34m\u001b[0m\n\u001b[1;32m      5\u001b[0m \u001b[0;34m\u001b[0m\u001b[0m\n\u001b[1;32m      6\u001b[0m     \u001b[0;32mfor\u001b[0m \u001b[0mj\u001b[0m \u001b[0;32min\u001b[0m \u001b[0mrange\u001b[0m\u001b[0;34m(\u001b[0m\u001b[0;36m1\u001b[0m\u001b[0;34m,\u001b[0m \u001b[0mlen\u001b[0m\u001b[0;34m(\u001b[0m\u001b[0mrow\u001b[0m\u001b[0;34m)\u001b[0m\u001b[0;34m+\u001b[0m\u001b[0;36m1\u001b[0m\u001b[0;34m)\u001b[0m\u001b[0;34m:\u001b[0m\u001b[0;34m\u001b[0m\u001b[0;34m\u001b[0m\u001b[0m\n\u001b[0;32m----> 7\u001b[0;31m         \u001b[0mrow\u001b[0m\u001b[0;34m[\u001b[0m\u001b[0mj\u001b[0m\u001b[0;34m]\u001b[0m \u001b[0;34m=\u001b[0m \u001b[0mfirst\u001b[0m \u001b[0;34m*\u001b[0m \u001b[0mnp\u001b[0m\u001b[0;34m.\u001b[0m\u001b[0mexp\u001b[0m\u001b[0;34m(\u001b[0m \u001b[0;34m(\u001b[0m\u001b[0mtasa_implicita_mxn_01\u001b[0m\u001b[0;34m-\u001b[0m\u001b[0mtasa_usd_01\u001b[0m\u001b[0;34m-\u001b[0m\u001b[0;36m0.5\u001b[0m\u001b[0;34m*\u001b[0m\u001b[0mnp\u001b[0m\u001b[0;34m.\u001b[0m\u001b[0mpower\u001b[0m\u001b[0;34m(\u001b[0m\u001b[0mvolatilidad\u001b[0m\u001b[0;34m,\u001b[0m\u001b[0;36m2\u001b[0m\u001b[0;34m)\u001b[0m\u001b[0;34m)\u001b[0m \u001b[0;34m*\u001b[0m \u001b[0;34m(\u001b[0m\u001b[0mtamano_paso\u001b[0m\u001b[0;34m/\u001b[0m\u001b[0;36m360\u001b[0m\u001b[0;34m)\u001b[0m \u001b[0;34m+\u001b[0m \u001b[0mvolatilidad\u001b[0m \u001b[0;34m*\u001b[0m \u001b[0mnp\u001b[0m\u001b[0;34m.\u001b[0m\u001b[0mpower\u001b[0m\u001b[0;34m(\u001b[0m\u001b[0;34m(\u001b[0m\u001b[0mtamano_paso\u001b[0m\u001b[0;34m/\u001b[0m\u001b[0;36m360\u001b[0m\u001b[0;34m)\u001b[0m\u001b[0;34m,\u001b[0m\u001b[0;36m0.5\u001b[0m\u001b[0;34m)\u001b[0m \u001b[0;34m*\u001b[0m \u001b[0mnorm\u001b[0m\u001b[0;34m.\u001b[0m\u001b[0mcdf\u001b[0m\u001b[0;34m(\u001b[0m\u001b[0mrandom\u001b[0m\u001b[0;34m.\u001b[0m\u001b[0muniform\u001b[0m\u001b[0;34m(\u001b[0m\u001b[0;36m0\u001b[0m\u001b[0;34m,\u001b[0m \u001b[0;36m1\u001b[0m\u001b[0;34m)\u001b[0m\u001b[0;34m)\u001b[0m \u001b[0;34m)\u001b[0m\u001b[0;34m\u001b[0m\u001b[0;34m\u001b[0m\u001b[0m\n\u001b[0m\u001b[1;32m      8\u001b[0m         \u001b[0mfirst\u001b[0m \u001b[0;34m=\u001b[0m \u001b[0mrow\u001b[0m\u001b[0;34m[\u001b[0m\u001b[0mj\u001b[0m\u001b[0;34m]\u001b[0m\u001b[0;34m\u001b[0m\u001b[0;34m\u001b[0m\u001b[0m\n\u001b[1;32m      9\u001b[0m         \u001b[0mprint\u001b[0m\u001b[0;34m(\u001b[0m\u001b[0;34m\"No. {} => {}\"\u001b[0m\u001b[0;34m.\u001b[0m\u001b[0mformat\u001b[0m\u001b[0;34m(\u001b[0m\u001b[0mj\u001b[0m\u001b[0;34m,\u001b[0m \u001b[0mrow\u001b[0m\u001b[0;34m[\u001b[0m\u001b[0mj\u001b[0m\u001b[0;34m]\u001b[0m\u001b[0;34m)\u001b[0m\u001b[0;34m)\u001b[0m\u001b[0;34m\u001b[0m\u001b[0;34m\u001b[0m\u001b[0m\n",
      "\u001b[0;31mIndexError\u001b[0m: index 90 is out of bounds for axis 0 with size 90"
     ]
    }
   ],
   "source": [
    "for i in range(0, 1000):\n",
    "    row = np.empty(plazo)\n",
    "    row[0] = subyacente\n",
    "    \n",
    "    for j in range(len(row)+1):\n",
    "        row[j+1] = row[j] * np.exp( (tasa_implicita_mxn_01-tasa_usd_01-0.5*np.power(volatilidad,2)) * (tamano_paso/360) + volatilidad * np.power((tamano_paso/360),0.5) * norm.cdf(random.uniform(0, 1)) )\n",
    "        print(\"No. {} => {}\".format(j, row[j]))\n",
    "        \n",
    "        "
   ]
  },
  {
   "cell_type": "code",
   "execution_count": null,
   "metadata": {},
   "outputs": [],
   "source": []
  }
 ],
 "metadata": {
  "kernelspec": {
   "display_name": "Python 3",
   "language": "python",
   "name": "python3"
  },
  "language_info": {
   "codemirror_mode": {
    "name": "ipython",
    "version": 3
   },
   "file_extension": ".py",
   "mimetype": "text/x-python",
   "name": "python",
   "nbconvert_exporter": "python",
   "pygments_lexer": "ipython3",
   "version": "3.7.6"
  }
 },
 "nbformat": 4,
 "nbformat_minor": 2
}
