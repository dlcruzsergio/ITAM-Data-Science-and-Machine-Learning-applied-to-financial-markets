{
 "cells": [
  {
   "cell_type": "markdown",
   "metadata": {},
   "source": [
    "# Transcripciones"
   ]
  },
  {
   "cell_type": "code",
   "execution_count": 4,
   "metadata": {},
   "outputs": [],
   "source": [
    "from requests_html import HTMLSession\n",
    "from datetime import datetime\n",
    "import locale\n",
    "import os"
   ]
  },
  {
   "cell_type": "code",
   "execution_count": 5,
   "metadata": {},
   "outputs": [
    {
     "data": {
      "text/plain": [
       "'es_ES.UTF-8'"
      ]
     },
     "execution_count": 5,
     "metadata": {},
     "output_type": "execute_result"
    }
   ],
   "source": [
    "locale.setlocale(locale.LC_TIME, \"es_ES.UTF-8\")"
   ]
  },
  {
   "cell_type": "code",
   "execution_count": 6,
   "metadata": {},
   "outputs": [],
   "source": [
    "url = \"https://lopezobrador.org.mx/transcripciones\""
   ]
  },
  {
   "cell_type": "code",
   "execution_count": 7,
   "metadata": {
    "scrolled": true
   },
   "outputs": [
    {
     "data": {
      "text/plain": [
       "<Response [200]>"
      ]
     },
     "execution_count": 7,
     "metadata": {},
     "output_type": "execute_result"
    }
   ],
   "source": [
    "with HTMLSession() as sess:\n",
    "    r = sess.get(url)\n",
    "r"
   ]
  },
  {
   "cell_type": "code",
   "execution_count": 8,
   "metadata": {},
   "outputs": [],
   "source": [
    "articles = r.html.find(\"article\")\n",
    "article, *rest_articles = articles"
   ]
  },
  {
   "cell_type": "markdown",
   "metadata": {},
   "source": [
    "* Título\n",
    "* Fecha\n",
    "* Url"
   ]
  },
  {
   "cell_type": "code",
   "execution_count": 9,
   "metadata": {},
   "outputs": [
    {
     "data": {
      "text/plain": [
       "<Element 'article' class=('col-md-4', 'post-125704', 'post', 'type-post', 'status-publish', 'format-standard', 'has-post-thumbnail', 'hentry', 'category-audio', 'category-boletines', 'category-comunicados', 'category-version-estenografica', 'category-videos', 'tag-amlo', 'tag-amlo-conferencia', 'tag-amlo-hoy', 'tag-amlo-presidente', 'tag-andres-manuel', 'tag-andres-manuel-lopez-obrador', 'tag-conferencia', 'tag-conferencia-amlo', 'tag-conferencia-de-amlo', 'tag-conferencia-de-amlo-hoy', 'tag-conferencia-de-prensa', 'tag-conferencia-de-prensa-amlo', 'tag-conferencia-de-prensa-presidente', 'tag-conferencia-matutina', 'tag-conferencia-presidente', 'tag-lopez-obrador', 'tag-obrador') id='post-125704'>"
      ]
     },
     "execution_count": 9,
     "metadata": {},
     "output_type": "execute_result"
    }
   ],
   "source": [
    "article"
   ]
  },
  {
   "cell_type": "code",
   "execution_count": 10,
   "metadata": {},
   "outputs": [],
   "source": [
    "qtitle = \"h2[class='entry-title']\""
   ]
  },
  {
   "cell_type": "code",
   "execution_count": 11,
   "metadata": {},
   "outputs": [
    {
     "data": {
      "text/plain": [
       "<Element 'h2' class=('entry-title',)>"
      ]
     },
     "execution_count": 11,
     "metadata": {},
     "output_type": "execute_result"
    }
   ],
   "source": [
    "title_element = article.find(qtitle, first=True)\n",
    "title_element"
   ]
  },
  {
   "cell_type": "code",
   "execution_count": 12,
   "metadata": {},
   "outputs": [
    {
     "data": {
      "text/plain": [
       "'Versión estenográfica de la conferencia de prensa matutina del presidente Andrés Manuel López Obrador'"
      ]
     },
     "execution_count": 12,
     "metadata": {},
     "output_type": "execute_result"
    }
   ],
   "source": [
    "title_element.text"
   ]
  },
  {
   "cell_type": "code",
   "execution_count": 13,
   "metadata": {},
   "outputs": [],
   "source": [
    "title_url, *_ = title_element.absolute_links"
   ]
  },
  {
   "cell_type": "code",
   "execution_count": 14,
   "metadata": {},
   "outputs": [],
   "source": [
    "qdate = \"span[class='entry-date']\""
   ]
  },
  {
   "cell_type": "code",
   "execution_count": 15,
   "metadata": {},
   "outputs": [],
   "source": [
    "date_element = article.find(qdate, first=True)"
   ]
  },
  {
   "cell_type": "code",
   "execution_count": 16,
   "metadata": {},
   "outputs": [
    {
     "data": {
      "text/plain": [
       "'diciembre 11, 2019'"
      ]
     },
     "execution_count": 16,
     "metadata": {},
     "output_type": "execute_result"
    }
   ],
   "source": [
    "datetime.now().strftime(\"%B %d, %Y\")"
   ]
  },
  {
   "cell_type": "code",
   "execution_count": 17,
   "metadata": {},
   "outputs": [
    {
     "data": {
      "text/plain": [
       "'diciembre 11, 2019'"
      ]
     },
     "execution_count": 17,
     "metadata": {},
     "output_type": "execute_result"
    }
   ],
   "source": [
    "fmt = \"%B %d, %Y\"\n",
    "datetime.now().strftime(fmt)"
   ]
  },
  {
   "cell_type": "code",
   "execution_count": 18,
   "metadata": {},
   "outputs": [
    {
     "data": {
      "text/plain": [
       "datetime.datetime(2019, 12, 11, 0, 0)"
      ]
     },
     "execution_count": 18,
     "metadata": {},
     "output_type": "execute_result"
    }
   ],
   "source": [
    "datetime.strptime(date_element.text, fmt)"
   ]
  },
  {
   "cell_type": "code",
   "execution_count": 19,
   "metadata": {},
   "outputs": [],
   "source": [
    "def extract_info(article):\n",
    "    \"\"\"\n",
    "    Funcion que regresa en diccionario\n",
    "    la información de un art.\n",
    "    \"\"\"\n",
    "    qtitle = \"h2[class='entry-title']\"\n",
    "    qdate = \"span[class='entry-date']\"\n",
    "    fmt = \"%B %d, %Y\"\n",
    "    \n",
    "    title_element = article.find(qtitle, first=True)\n",
    "    title_text = title_element.text\n",
    "    title_url, *_ = title_element.absolute_links\n",
    "    \n",
    "    date_element = article.find(qdate, first=True).text\n",
    "    date = datetime.strptime(date_element, fmt)\n",
    "    return {\n",
    "        \"title\": title_text,\n",
    "        \"url\": title_url,\n",
    "        \"date\": date\n",
    "    }\n",
    "\n",
    "def get_articles(page, sess):\n",
    "    \"\"\"\n",
    "    Me regresa articulos\n",
    "    \"\"\"\n",
    "    npage = str(page)\n",
    "    url = \"https://lopezobrador.org.mx/transcripciones\"\n",
    "    url = os.path.join(url, \"page\", npage)\n",
    "    r = sess.get(url)\n",
    "    articles = r.html.find(\"article\")\n",
    "    return articles"
   ]
  },
  {
   "cell_type": "code",
   "execution_count": 20,
   "metadata": {},
   "outputs": [],
   "source": [
    "from tqdm.notebook import tqdm"
   ]
  },
  {
   "cell_type": "code",
   "execution_count": 21,
   "metadata": {},
   "outputs": [
    {
     "data": {
      "application/vnd.jupyter.widget-view+json": {
       "model_id": "9597392d4aea41d78986441add093caf",
       "version_major": 2,
       "version_minor": 0
      },
      "text/plain": [
       "HBox(children=(FloatProgress(value=0.0, max=10.0), HTML(value='')))"
      ]
     },
     "metadata": {},
     "output_type": "display_data"
    },
    {
     "name": "stdout",
     "output_type": "stream",
     "text": [
      "\n"
     ]
    }
   ],
   "source": [
    "total_info  = []\n",
    "with HTMLSession() as sess:\n",
    "    for i in tqdm(range(1, 11)):\n",
    "        articles = get_articles(i, sess)\n",
    "        for article in articles:\n",
    "            info = extract_info(article)\n",
    "            total_info.append(info)"
   ]
  },
  {
   "cell_type": "code",
   "execution_count": 22,
   "metadata": {},
   "outputs": [],
   "source": [
    "import pandas as pd\n",
    "info_df = pd.DataFrame(total_info)"
   ]
  },
  {
   "cell_type": "code",
   "execution_count": 23,
   "metadata": {},
   "outputs": [],
   "source": [
    "info_df.to_pickle(\"amlo.pkl\")"
   ]
  },
  {
   "cell_type": "code",
   "execution_count": null,
   "metadata": {},
   "outputs": [],
   "source": []
  },
  {
   "cell_type": "code",
   "execution_count": null,
   "metadata": {},
   "outputs": [],
   "source": []
  },
  {
   "cell_type": "code",
   "execution_count": null,
   "metadata": {},
   "outputs": [],
   "source": []
  },
  {
   "cell_type": "code",
   "execution_count": 3,
   "metadata": {},
   "outputs": [
    {
     "data": {
      "text/html": [
       "<div>\n",
       "<style scoped>\n",
       "    .dataframe tbody tr th:only-of-type {\n",
       "        vertical-align: middle;\n",
       "    }\n",
       "\n",
       "    .dataframe tbody tr th {\n",
       "        vertical-align: top;\n",
       "    }\n",
       "\n",
       "    .dataframe thead th {\n",
       "        text-align: right;\n",
       "    }\n",
       "</style>\n",
       "<table border=\"1\" class=\"dataframe\">\n",
       "  <thead>\n",
       "    <tr style=\"text-align: right;\">\n",
       "      <th></th>\n",
       "      <th>title</th>\n",
       "      <th>url</th>\n",
       "      <th>date</th>\n",
       "    </tr>\n",
       "  </thead>\n",
       "  <tbody>\n",
       "    <tr>\n",
       "      <th>0</th>\n",
       "      <td>Versión estenográfica. Ceremonia de entrega de...</td>\n",
       "      <td>https://lopezobrador.org.mx/2019/12/09/version...</td>\n",
       "      <td>2019-12-09</td>\n",
       "    </tr>\n",
       "    <tr>\n",
       "      <th>1</th>\n",
       "      <td>Versión estenográfica de la conferencia de pre...</td>\n",
       "      <td>https://lopezobrador.org.mx/2019/12/09/version...</td>\n",
       "      <td>2019-12-09</td>\n",
       "    </tr>\n",
       "    <tr>\n",
       "      <th>2</th>\n",
       "      <td>Versión estenográfica de la conferencia de pre...</td>\n",
       "      <td>https://lopezobrador.org.mx/2019/12/06/version...</td>\n",
       "      <td>2019-12-06</td>\n",
       "    </tr>\n",
       "    <tr>\n",
       "      <th>3</th>\n",
       "      <td>Versión estenográfica de la conferencia de pre...</td>\n",
       "      <td>https://lopezobrador.org.mx/2019/12/05/version...</td>\n",
       "      <td>2019-12-05</td>\n",
       "    </tr>\n",
       "    <tr>\n",
       "      <th>4</th>\n",
       "      <td>Versión estenográfica de la conferencia de pre...</td>\n",
       "      <td>https://lopezobrador.org.mx/2019/12/04/version...</td>\n",
       "      <td>2019-12-04</td>\n",
       "    </tr>\n",
       "  </tbody>\n",
       "</table>\n",
       "</div>"
      ],
      "text/plain": [
       "                                               title  \\\n",
       "0  Versión estenográfica. Ceremonia de entrega de...   \n",
       "1  Versión estenográfica de la conferencia de pre...   \n",
       "2  Versión estenográfica de la conferencia de pre...   \n",
       "3  Versión estenográfica de la conferencia de pre...   \n",
       "4  Versión estenográfica de la conferencia de pre...   \n",
       "\n",
       "                                                 url       date  \n",
       "0  https://lopezobrador.org.mx/2019/12/09/version... 2019-12-09  \n",
       "1  https://lopezobrador.org.mx/2019/12/09/version... 2019-12-09  \n",
       "2  https://lopezobrador.org.mx/2019/12/06/version... 2019-12-06  \n",
       "3  https://lopezobrador.org.mx/2019/12/05/version... 2019-12-05  \n",
       "4  https://lopezobrador.org.mx/2019/12/04/version... 2019-12-04  "
      ]
     },
     "execution_count": 3,
     "metadata": {},
     "output_type": "execute_result"
    }
   ],
   "source": [
    "import pickle\n",
    "\n",
    "with open('amlo.pkl', 'rb') as p_f:\n",
    "    data = pickle.load(p_f)\n",
    "    \n",
    "data.head()"
   ]
  },
  {
   "cell_type": "code",
   "execution_count": null,
   "metadata": {},
   "outputs": [],
   "source": []
  }
 ],
 "metadata": {
  "kernelspec": {
   "display_name": "Python 3",
   "language": "python",
   "name": "python3"
  },
  "language_info": {
   "codemirror_mode": {
    "name": "ipython",
    "version": 3
   },
   "file_extension": ".py",
   "mimetype": "text/x-python",
   "name": "python",
   "nbconvert_exporter": "python",
   "pygments_lexer": "ipython3",
   "version": "3.7.3"
  }
 },
 "nbformat": 4,
 "nbformat_minor": 2
}
