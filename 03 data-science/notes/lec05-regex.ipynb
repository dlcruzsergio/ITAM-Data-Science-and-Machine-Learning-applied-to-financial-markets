{
 "cells": [
  {
   "cell_type": "markdown",
   "metadata": {
    "slideshow": {
     "slide_type": "slide"
    }
   },
   "source": [
    "<img src=\"../files/misc/logo.png\" width=300/>\n",
    "<h1 style=\"color:#872325\"> Regular Expressions (Regex)</h1>"
   ]
  },
  {
   "cell_type": "markdown",
   "metadata": {
    "slideshow": {
     "slide_type": "slide"
    }
   },
   "source": [
    "[Regex](https://docs.python.org/3.4/library/re.html#module-re) o *Regular Expression* es un texto que describe un patrón de busqueda dentro de un *corpus* (conjunto de texto). \n",
    "\n",
    "Un *regex* nos ayuda a encontrar patrones dentro de un texto tanto para búsqueda como remplazo de texto. En ocasiones, métodos como `str.replace` no son suficientes para un objecivo, en esos casos usamos *regex*.\n",
    "\n",
    "En Python, la librería para usar *regular expressions* es `re`.\n",
    "\n",
    "Formalmente, una expresión regular es\n",
    "> una notación algebráica para caraterizar un conjunto de strings"
   ]
  },
  {
   "cell_type": "code",
   "execution_count": 1,
   "metadata": {
    "slideshow": {
     "slide_type": "fragment"
    }
   },
   "outputs": [],
   "source": [
    "import re"
   ]
  },
  {
   "cell_type": "markdown",
   "metadata": {},
   "source": [
    "Como un ejemplo para motivar su uso, consideremos el cuento *The Egg* por Andy Weir."
   ]
  },
  {
   "cell_type": "code",
   "execution_count": 2,
   "metadata": {
    "slideshow": {
     "slide_type": "slide"
    }
   },
   "outputs": [
    {
     "name": "stdout",
     "output_type": "stream",
     "text": [
      "The Egg\n",
      "By: Andy Weir\n",
      " \n",
      "You were on your way home when you died.\n",
      "It was a car accident. Nothing particularly remarkable, but fatal nonetheless. You left behind a wife and two children. It was a painless death. The EMTs tried their best to save you, but to no avail. Your body was so utterly shattered you were better off, trust me.\n",
      "And that’s when you met me.\n"
     ]
    }
   ],
   "source": [
    "%%bash\n",
    "head -6 ../files/lec05/egg.txt"
   ]
  },
  {
   "cell_type": "code",
   "execution_count": 3,
   "metadata": {
    "slideshow": {
     "slide_type": "slide"
    }
   },
   "outputs": [],
   "source": [
    "# Leemos cuento y lo guardamos dentro de la variable \"egg\"\n",
    "with open(\"../files/lec05/egg.txt\", \"r\", encoding=\"utf-8\") as f:\n",
    "    egg = f.read()"
   ]
  },
  {
   "cell_type": "markdown",
   "metadata": {},
   "source": [
    "Para encontrar un string mediante `re` usamos el método `.search`"
   ]
  },
  {
   "cell_type": "code",
   "execution_count": 4,
   "metadata": {},
   "outputs": [
    {
     "data": {
      "text/plain": [
       "<re.Match object; span=(2372, 2377), match='human'>"
      ]
     },
     "execution_count": 4,
     "metadata": {},
     "output_type": "execute_result"
    }
   ],
   "source": [
    "re.search(\"human\", egg)"
   ]
  },
  {
   "cell_type": "markdown",
   "metadata": {},
   "source": [
    "### Syntaxis básica de Regex\n",
    "\n",
    "El verdadero poder de *regex* es poder encontrar patrones de búsqueda sin declarar explícitamente qué es lo que se está buscando. Pensemos, por ejemplo, que quisieramos encontrar dentro de un texto las palabras *niño*, *niña*, *niños* o *niñas*. Hacerlo solamente con python sería una tarea ardua. Con regex, expresar la busqueda de este conjunto de palabras sería de la siguiente manera: `niñ[oa]s?`.\n",
    "\n",
    "Del ejemplo anterior, `[oa]` expresa un conjunto de donde se elige `a` u `o`; `s?` expresa que `s` es un carácter opcional. Al igual que Python, *regex* tiene una sintáxis. La sintáxis básica es la que sigue:\n",
    "\n",
    "1. `.` Encuentra cualquier carácter\n",
    "2. `\\s` Cualquier espacio en blanco\n",
    "3. `\\S` Cualquiera que no sea espacios en blanco\n",
    "4. `\\w` Cualquier carácter alfanumérico (`a`,..,`z`,`A`,..,`Z`,`0`,..,`9`)\n",
    "5. `\\W` Cualquier carácter no alfanumérico\n",
    "6. `(...)` Agrupa términos\n",
    "7. `(xxx|yyy)` Encuentra `xxx` o `yyy`.\n",
    "8. `Machines?` `s` es opcional (Encuentra `Machine` o `Machines`)\n",
    "9. `x*` Encuentra 0 o más repeticiones de `x`: ` `, `x`, `xxxxx...xxx`\n",
    "10. `x+` Encuentra 1 o más repeticiones de `x`: , `x`, `xxxxx...xxx`\n",
    "10. `[a-z]` encuentra cualquier letra minúscula (de `a` a la `z`)\n",
    "11. `x{4}` encuentra exactamente 4 repeticiones de `x`\n",
    "12. `x{1,4}` encuentra de 1 a 4 repeticiones de `x`\n",
    "13. `x{2, }` encuentra 2 o más repeticiones de `x`\n",
    "14. `^smth` encuentra `smth` al principio del string.\n",
    "15. `x[^abc]` encuentra cualquier conjunto de caracterés que no contenga ninguna `a`, `b` o `c` como segunda posicion. E.g., `xd`, `xe`, `x.`, `x-`\n",
    "16. `(?:aaa|bbb)` agrupa `aaa` o `bbb` sin regresarlo como un patrón encontrado. *capture but don't retrieve*.\n",
    "\n",
    "#### Dos Funciones de `re`\n",
    "`re.search(patron, string)`: Regresa la primera ocurrencia de buscar `patron` dentro de `string`. Regresa `None` si no encuentra.\n",
    "\n",
    "`re.findall(patron, string)`: Regresa una lista de todas ocurrencias en `string` buscando `patron`.\n",
    "\n",
    "`re.sub(patron, remplazo, string)`"
   ]
  },
  {
   "cell_type": "code",
   "execution_count": 5,
   "metadata": {},
   "outputs": [],
   "source": [
    "re.search(r\"The E\\..\", egg)"
   ]
  },
  {
   "cell_type": "code",
   "execution_count": 6,
   "metadata": {},
   "outputs": [
    {
     "data": {
      "text/plain": [
       "['felt', 'fell']"
      ]
     },
     "execution_count": 6,
     "metadata": {},
     "output_type": "execute_result"
    }
   ],
   "source": [
    "re.findall(\"fel\\w\", egg)"
   ]
  },
  {
   "cell_type": "code",
   "execution_count": 7,
   "metadata": {},
   "outputs": [
    {
     "data": {
      "text/plain": [
       "['strode', 'stretched']"
      ]
     },
     "execution_count": 7,
     "metadata": {},
     "output_type": "execute_result"
    }
   ],
   "source": [
    "re.findall(\"\\w+tr\\w+\", egg)"
   ]
  },
  {
   "cell_type": "code",
   "execution_count": 8,
   "metadata": {},
   "outputs": [
    {
     "data": {
      "text/plain": [
       "['tried', 'trust', 'truck', 'strode', 'stretched']"
      ]
     },
     "execution_count": 8,
     "metadata": {},
     "output_type": "execute_result"
    }
   ],
   "source": [
    "re.findall(\"\\w*tr\\w+\", egg)"
   ]
  },
  {
   "cell_type": "code",
   "execution_count": 9,
   "metadata": {},
   "outputs": [
    {
     "data": {
      "text/plain": [
       "['You were', 'you died', 'You left', 'you were', 'you met']"
      ]
     },
     "execution_count": 9,
     "metadata": {},
     "output_type": "execute_result"
    }
   ],
   "source": [
    "re.findall(r\"[Yy]ou\\s\\w+\", egg)[:5]"
   ]
  },
  {
   "cell_type": "code",
   "execution_count": 10,
   "metadata": {},
   "outputs": [
    {
     "data": {
      "text/plain": [
       "['were', 'died', 'left', 'were', 'met']"
      ]
     },
     "execution_count": 10,
     "metadata": {},
     "output_type": "execute_result"
    }
   ],
   "source": [
    "re.findall(r\"[Yy]ou\\s(\\w+)\", egg)[:5]"
   ]
  },
  {
   "cell_type": "code",
   "execution_count": 12,
   "metadata": {},
   "outputs": [
    {
     "data": {
      "text/plain": [
       "['You were on your way home when you died.',\n",
       " 'You looked around.',\n",
       " 'You looked at me with fascination.',\n",
       " 'You followed along as we strode through the void.',\n",
       " 'I stopped walking and took you by the shoulders.',\n",
       " 'I looked you in the eye.',\n",
       " 'You stared blankly at me.',\n",
       " 'You fell silent.',\n",
       " 'You thought for a long time.']"
      ]
     },
     "execution_count": 12,
     "metadata": {},
     "output_type": "execute_result"
    }
   ],
   "source": [
    "re.findall(\"^(?:You|I) (?:[a-z]+ ?)+\\.\", egg, re.M)"
   ]
  },
  {
   "cell_type": "markdown",
   "metadata": {},
   "source": [
    "## Lookaheads\n",
    "Un _lookahead_ en regex es una sequencia de texto que queremos (o no) capturar si alguna condición se cumple. En Python podemos distinguir entre cuatro tipos de lookaheads:\n",
    "\n",
    "\n",
    "* Positive Lookahead `(?=...)`: hacemos un match del texto si `...` se encuentra en la siguiente posición del texto\n",
    "* Negative lookahead `(?!...)`: hacemos un match del texto si `...` **no** se encuentra en la siguiente posición del texto\n",
    "* Positive lookbehind `(?<=...)`: hacemos un match del texto si `...` precede al resto del patrón a encontrar\n",
    "* Negative lookbehind `(?<!...)`: hacemos un match del texto si `...` **no** precede al resto del patrón a encontrar"
   ]
  },
  {
   "cell_type": "code",
   "execution_count": 13,
   "metadata": {},
   "outputs": [
    {
     "data": {
      "text/plain": [
       "[\"'What... what happened?'\",\n",
       " \"'What is this place?'\",\n",
       " \"'Are you god?'\",\n",
       " \"'So what’s the point, then?'\",\n",
       " \"'Seriously?'\",\n",
       " \"'Why?'\"]"
      ]
     },
     "execution_count": 13,
     "metadata": {},
     "output_type": "execute_result"
    }
   ],
   "source": [
    "# Positive Lookahead\n",
    "re.findall(\"'.+'(?= (?:You|I) asked)\", egg)"
   ]
  },
  {
   "cell_type": "code",
   "execution_count": 14,
   "metadata": {},
   "outputs": [
    {
     "data": {
      "text/plain": [
       "['your way home when you died',\n",
       " 'Your body was so utterly shattered you were better off',\n",
       " 'your main concern is for your family',\n",
       " 'Your kids will remember you as perfect in every way',\n",
       " 'Your wife will cry on the outside',\n",
       " 'your marriage was falling apart',\n",
       " 'your past lives',\n",
       " 'Your soul is more magnificent',\n",
       " 'your finger in a glass of water to see if it',\n",
       " 'your immense consciousness',\n",
       " 'your universe',\n",
       " 'your next life',\n",
       " 'your way']"
      ]
     },
     "execution_count": 14,
     "metadata": {},
     "output_type": "execute_result"
    }
   ],
   "source": [
    "# Negative lookahead\n",
    "re.findall(\"[yY]our(?!self)[\\s\\w]+\", egg)"
   ]
  },
  {
   "cell_type": "markdown",
   "metadata": {},
   "source": [
    "<h2 style=\"color:teal\">Ejemplo</h2>\n",
    "\n",
    "Analizando código fuente"
   ]
  },
  {
   "cell_type": "code",
   "execution_count": 15,
   "metadata": {},
   "outputs": [],
   "source": [
    "import re\n",
    "import requests\n",
    "\n",
    "url = \"https://raw.githubusercontent.com/psf/requests/master/requests/sessions.py\"\n",
    "r = requests.get(url)\n",
    "reqtxt = r.text"
   ]
  },
  {
   "cell_type": "markdown",
   "metadata": {},
   "source": [
    "1. Encontemos todas las funciones definidas dentro del código fuente"
   ]
  },
  {
   "cell_type": "code",
   "execution_count": 16,
   "metadata": {},
   "outputs": [
    {
     "data": {
      "text/plain": [
       "['merge_setting',\n",
       " 'merge_hooks',\n",
       " 'get_redirect_target',\n",
       " 'should_strip_auth',\n",
       " 'resolve_redirects',\n",
       " 'rebuild_auth',\n",
       " 'rebuild_proxies',\n",
       " 'rebuild_method',\n",
       " '__init__',\n",
       " '__enter__',\n",
       " '__exit__',\n",
       " 'prepare_request',\n",
       " 'request',\n",
       " 'get',\n",
       " 'options',\n",
       " 'head',\n",
       " 'post',\n",
       " 'put',\n",
       " 'patch',\n",
       " 'delete',\n",
       " 'send',\n",
       " 'merge_environment_settings',\n",
       " 'get_adapter',\n",
       " 'close',\n",
       " 'mount',\n",
       " '__getstate__',\n",
       " '__setstate__',\n",
       " 'session']"
      ]
     },
     "execution_count": 16,
     "metadata": {},
     "output_type": "execute_result"
    }
   ],
   "source": [
    "m1 = re.findall(\"(?<=def )\\w+\", reqtxt)\n",
    "m1"
   ]
  },
  {
   "cell_type": "markdown",
   "metadata": {},
   "source": [
    "2. Encontremos todas las llamdas a la función `get` con sus respectivos argumentos"
   ]
  },
  {
   "cell_type": "code",
   "execution_count": 17,
   "metadata": {},
   "outputs": [
    {
     "data": {
      "text/plain": [
       "[\"get('response')\",\n",
       " \"get('response')\",\n",
       " 'get(self, resp)',\n",
       " 'get(old_parsed.scheme, None), None)',\n",
       " 'get(resp)',\n",
       " 'get(resp)',\n",
       " \"get('no_proxy')\",\n",
       " \"get(scheme, environ_proxies.get('all'))\",\n",
       " \"get('https://httpbin.org/get')\",\n",
       " \"get('https://httpbin.org/get')\",\n",
       " 'get(self, url, **kwargs)',\n",
       " \"get('stream')\",\n",
       " \"get('no_proxy')\",\n",
       " \"get('REQUESTS_CA_BUNDLE')\",\n",
       " \"get('CURL_CA_BUNDLE'))\"]"
      ]
     },
     "execution_count": 17,
     "metadata": {},
     "output_type": "execute_result"
    }
   ],
   "source": [
    "m2 = re.findall(\"get\\(.+\\)\", reqtxt)\n",
    "m2"
   ]
  },
  {
   "cell_type": "markdown",
   "metadata": {},
   "source": [
    "3. Encontremos todas las llamadas a la función `get` exluyendo el momento de su definición, i.e., no queremos hacer match en `def get(...`"
   ]
  },
  {
   "cell_type": "code",
   "execution_count": 18,
   "metadata": {},
   "outputs": [
    {
     "data": {
      "text/plain": [
       "[\"get('response')\",\n",
       " \"get('response')\",\n",
       " 'get(self, resp)',\n",
       " 'get(old_parsed.scheme, None), None)',\n",
       " 'get(resp)',\n",
       " 'get(resp)',\n",
       " \"get('no_proxy')\",\n",
       " \"get(scheme, environ_proxies.get('all'))\",\n",
       " \"get('https://httpbin.org/get')\",\n",
       " \"get('https://httpbin.org/get')\",\n",
       " \"get('stream')\",\n",
       " \"get('no_proxy')\",\n",
       " \"get('REQUESTS_CA_BUNDLE')\",\n",
       " \"get('CURL_CA_BUNDLE'))\"]"
      ]
     },
     "execution_count": 18,
     "metadata": {},
     "output_type": "execute_result"
    }
   ],
   "source": [
    "m3 = re.findall(\"(?<!def )get\\(.+\\)\", reqtxt)\n",
    "m3"
   ]
  },
  {
   "cell_type": "markdown",
   "metadata": {},
   "source": [
    "4. Encuentra el momento de la definición `get`, i.e., queremos hacer match en `def get(...`"
   ]
  },
  {
   "cell_type": "code",
   "execution_count": 19,
   "metadata": {},
   "outputs": [
    {
     "data": {
      "text/plain": [
       "['get(self, url, **kwargs)']"
      ]
     },
     "execution_count": 19,
     "metadata": {},
     "output_type": "execute_result"
    }
   ],
   "source": [
    "m4 = re.findall(\"(?<=def )get\\(.+\\)\", reqtxt)\n",
    "m4"
   ]
  },
  {
   "cell_type": "markdown",
   "metadata": {},
   "source": [
    "<h2 style=\"color:crimson\">Ejercicios</h2>\n",
    "\n",
    "1. Dado el string `S1 = \"aaa aba aca a.a a+a aaa\"`, encuentra todas las ocurrencias de conjunto de carácteres cuyo primer y tercer es `a` y el segundo carácter, ningun espacio en blanco o `a`\n",
    "\n",
    "---\n",
    "\n",
    "2. En el inglés, un verbo regular en pasado participio termina con `ed`, e.g., *lived*, *gained*, *asked*. Encuentra todos los verbos regulares en pasado participio dentro de Egg.\n",
    "\n",
    "---\n",
    "\n",
    "3. Del ejercicio 2 anterior, cuenta el número de veces que se dice cada verbo. Hint: usa la clase `Counter` dentro de la librería `collections`\n",
    "\n",
    "---\n",
    "\n",
    "4. Encuentra todas las ocurrencias dentro de la variable `egg` que empiecen con `the` ó `The` seguido de cualquier número de número de palabras y termine con `of`. E.g., `the meaning of`, `The grand adventures of`, `the big parade of`.\n",
    "\n",
    "---\n",
    "\n",
    "5. Dentro del texto egg se escribe explicitamente lo que dice el narrador de la siguiente forma `\"'...,'  I said\"`. Encuentra todas las oraciones en las que enfatiza lo que haya dicho. Por ejemplo, para `\"'Now you’re getting it,' I said\"`, deberíamos recabar `\"'Now you’re getting it,'\"`"
   ]
  }
 ],
 "metadata": {
  "celltoolbar": "Slideshow",
  "kernelspec": {
   "display_name": "Python 3",
   "language": "python",
   "name": "python3"
  },
  "language_info": {
   "codemirror_mode": {
    "name": "ipython",
    "version": 3
   },
   "file_extension": ".py",
   "mimetype": "text/x-python",
   "name": "python",
   "nbconvert_exporter": "python",
   "pygments_lexer": "ipython3",
   "version": "3.7.3"
  }
 },
 "nbformat": 4,
 "nbformat_minor": 2
}
