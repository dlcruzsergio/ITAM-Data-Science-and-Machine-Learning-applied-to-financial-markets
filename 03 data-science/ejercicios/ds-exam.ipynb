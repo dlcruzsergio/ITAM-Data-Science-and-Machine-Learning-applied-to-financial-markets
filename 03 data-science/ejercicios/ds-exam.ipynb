{
 "cells": [
  {
   "cell_type": "markdown",
   "metadata": {},
   "source": [
    "# Intro Data Science"
   ]
  },
  {
   "cell_type": "code",
   "execution_count": 16,
   "metadata": {},
   "outputs": [],
   "source": [
    "import os\n",
    "import requests\n",
    "import pandas as pd\n",
    "import matplotlib.pyplot as plt"
   ]
  },
  {
   "cell_type": "markdown",
   "metadata": {},
   "source": [
    "1. Usando el API de `AlphaVantage` descarga la información histórica de precios diaria (`TIME_SERIES_DAILY`) para los siguientes 5 tickers: `[\"GOOGL\", \"MSFT\", \"AAPL\", \"TSLA\", \"AMZN\"]`\n",
    "\n",
    "```\n",
    "{'GOOGL': {'Meta Data': {'1. Information': 'Daily Prices (open, high, low, close) and Volumes', '2. Symbol': 'GOOGL', '3. Last Refreshed': '2020-01-13 14:48:47', '4. Output Size': 'Full size', '5. Time Zone': 'US/Eastern'}, 'Time Series (Daily)': {'2020-01-13': {'1. open': '1435.2500', '2. high': '1439.8900', '3. low': '1425.3700', '4. close': '1437.2850', '5. volume': '782014'}, '2020-01-10': {'1. open': '1429.4700', '2. high': '1434.9400', '3. low': '1419.6000', '4. close': '1428.9600', '5. volume': '1313178'}, '2020-01-09': {'1. open': '1421.9300', '2. high': '1428.6800', '3. low': '1410.2100', '4. close': '1419.7900', '5. volume': '1661438'}, '2020-01-08': {'1. open': '1394.8200', '2. high': '1411.8500', '3. low': '1392.6300', '4. close': '1405.0400...\n",
    "```"
   ]
  },
  {
   "cell_type": "code",
   "execution_count": null,
   "metadata": {},
   "outputs": [],
   "source": [
    "data_GOOGL = requests.get(\"https://www.alphavantage.co/query\", params={\n",
    "    \"function\": \"TIME_SERIES_DAILY\",\n",
    "    \"symbol\": \"GOOGL\",\n",
    "    \"outputsize\": \"full\",\n",
    "    \"apikey\": \"22QHX22QETFX32HQ\",\n",
    "}).json()\n",
    "\n",
    "data_MSFT = requests.get(\"https://www.alphavantage.co/query\", params={\n",
    "    \"function\": \"TIME_SERIES_DAILY\",\n",
    "    \"symbol\": \"MSFT\",\n",
    "    \"outputsize\": \"full\",\n",
    "    \"apikey\": \"22QHX22QETFX32HQ\",\n",
    "}).json()\n",
    "\n",
    "data_AAPL = requests.get(\"https://www.alphavantage.co/query\", params={\n",
    "    \"function\": \"TIME_SERIES_DAILY\",\n",
    "    \"symbol\": \"AAPL\",\n",
    "    \"outputsize\": \"full\",\n",
    "    \"apikey\": \"22QHX22QETFX32HQ\",\n",
    "}).json()\n",
    "\n",
    "data_TSLA = requests.get(\"https://www.alphavantage.co/query\", params={\n",
    "    \"function\": \"TIME_SERIES_DAILY\",\n",
    "    \"symbol\": \"TSLA\",\n",
    "    \"outputsize\": \"full\",\n",
    "    \"apikey\": \"22QHX22QETFX32HQ\",\n",
    "}).json()\n",
    "\n",
    "data_AMZN = requests.get(\"https://www.alphavantage.co/query\", params={\n",
    "    \"function\": \"TIME_SERIES_DAILY\",\n",
    "    \"symbol\": \"AMZN\",\n",
    "    \"outputsize\": \"full\",\n",
    "    \"apikey\": \"22QHX22QETFX32HQ\",\n",
    "}).json()"
   ]
  },
  {
   "cell_type": "markdown",
   "metadata": {},
   "source": [
    "2. Con la información descargada previamente, crea un pandas DataFrame de precios de cierre (`4. close`). Cada columna de `df` deberá ser el el nombre de cada ticker.\n",
    "\n",
    "<table border=\"1\" class=\"dataframe\">  <thead>    <tr style=\"text-align: right;\">      <th></th>      <th>GOOGL</th>      <th>MSFT</th>      <th>AAPL</th>      <th>TSLA</th>      <th>AMZN</th>    </tr>  </thead>  <tbody>    <tr>      <th>2020-01-13</th>      <td>1437.2850</td>      <td>162.8700</td>      <td>314.5000</td>      <td>516.9657</td>      <td>1894.2900</td>    </tr>    <tr>      <th>2020-01-10</th>      <td>1428.9600</td>      <td>161.3400</td>      <td>310.3300</td>      <td>478.1500</td>      <td>1883.1600</td>    </tr>    <tr>      <th>2020-01-09</th>      <td>1419.7900</td>      <td>162.0900</td>      <td>309.6300</td>      <td>481.3400</td>      <td>1901.0500</td>    </tr>    <tr>      <th>2020-01-08</th>      <td>1405.0400</td>      <td>160.0900</td>      <td>303.1900</td>      <td>492.1400</td>      <td>1891.9700</td>    </tr>    <tr>      <th>2020-01-07</th>      <td>1395.1100</td>      <td>157.5800</td>      <td>298.3900</td>      <td>469.0600</td>      <td>1906.8600</td>    </tr>  </tbody></table>\n"
   ]
  },
  {
   "cell_type": "code",
   "execution_count": 182,
   "metadata": {},
   "outputs": [
    {
     "data": {
      "text/html": [
       "<div>\n",
       "<style scoped>\n",
       "    .dataframe tbody tr th:only-of-type {\n",
       "        vertical-align: middle;\n",
       "    }\n",
       "\n",
       "    .dataframe tbody tr th {\n",
       "        vertical-align: top;\n",
       "    }\n",
       "\n",
       "    .dataframe thead th {\n",
       "        text-align: right;\n",
       "    }\n",
       "</style>\n",
       "<table border=\"1\" class=\"dataframe\">\n",
       "  <thead>\n",
       "    <tr style=\"text-align: right;\">\n",
       "      <th></th>\n",
       "      <th>GOOGL</th>\n",
       "      <th>MSFT</th>\n",
       "      <th>AAPL</th>\n",
       "      <th>TSLA</th>\n",
       "      <th>AMZN</th>\n",
       "    </tr>\n",
       "  </thead>\n",
       "  <tbody>\n",
       "    <tr>\n",
       "      <td>2020-01-07</td>\n",
       "      <td>1395.1100</td>\n",
       "      <td>157.5800</td>\n",
       "      <td>298.3900</td>\n",
       "      <td>469.0600</td>\n",
       "      <td>1906.8600</td>\n",
       "    </tr>\n",
       "    <tr>\n",
       "      <td>2020-01-08</td>\n",
       "      <td>1405.0400</td>\n",
       "      <td>160.0900</td>\n",
       "      <td>303.1900</td>\n",
       "      <td>492.1400</td>\n",
       "      <td>1891.9700</td>\n",
       "    </tr>\n",
       "    <tr>\n",
       "      <td>2020-01-09</td>\n",
       "      <td>1419.7900</td>\n",
       "      <td>162.0900</td>\n",
       "      <td>309.6300</td>\n",
       "      <td>481.3400</td>\n",
       "      <td>1901.0500</td>\n",
       "    </tr>\n",
       "    <tr>\n",
       "      <td>2020-01-10</td>\n",
       "      <td>1428.9600</td>\n",
       "      <td>161.3400</td>\n",
       "      <td>310.3300</td>\n",
       "      <td>478.1500</td>\n",
       "      <td>1883.1600</td>\n",
       "    </tr>\n",
       "    <tr>\n",
       "      <td>2020-01-13</td>\n",
       "      <td>1440.0300</td>\n",
       "      <td>163.2800</td>\n",
       "      <td>316.9600</td>\n",
       "      <td>524.8600</td>\n",
       "      <td>1891.3000</td>\n",
       "    </tr>\n",
       "  </tbody>\n",
       "</table>\n",
       "</div>"
      ],
      "text/plain": [
       "                GOOGL      MSFT      AAPL      TSLA       AMZN\n",
       "2020-01-07  1395.1100  157.5800  298.3900  469.0600  1906.8600\n",
       "2020-01-08  1405.0400  160.0900  303.1900  492.1400  1891.9700\n",
       "2020-01-09  1419.7900  162.0900  309.6300  481.3400  1901.0500\n",
       "2020-01-10  1428.9600  161.3400  310.3300  478.1500  1883.1600\n",
       "2020-01-13  1440.0300  163.2800  316.9600  524.8600  1891.3000"
      ]
     },
     "execution_count": 182,
     "metadata": {},
     "output_type": "execute_result"
    }
   ],
   "source": [
    "df_GOOGL = pd.DataFrame(data_GOOGL[\"Time Series (Daily)\"]).T.fillna(0)['4. close'].rename(\"GOOGL\")\n",
    "df_MSFT = pd.DataFrame(data_MSFT[\"Time Series (Daily)\"]).T.fillna(0)['4. close'].rename(\"MSFT\")\n",
    "df_AAPL = pd.DataFrame(data_AAPL[\"Time Series (Daily)\"]).T.fillna(0)['4. close'].rename(\"AAPL\")\n",
    "df_TSLA = pd.DataFrame(data_TSLA[\"Time Series (Daily)\"]).T.fillna(0)['4. close'].rename(\"TSLA\")\n",
    "df_AMZN = pd.DataFrame(data_AMZN[\"Time Series (Daily)\"]).T.fillna(0)['4. close'].rename(\"AMZN\")\n",
    "\n",
    "df = pd.DataFrame({\n",
    "    'GOOGL': df_GOOGL,\n",
    "    'MSFT': df_MSFT,\n",
    "    'AAPL': df_AAPL,\n",
    "    'TSLA': df_TSLA,\n",
    "    'AMZN': df_AMZN\n",
    "})\n",
    "df.tail()"
   ]
  },
  {
   "attachments": {
    "image.png": {
     "image/png": "[encoded data removed]"
    }
   },
   "cell_type": "markdown",
   "metadata": {},
   "source": [
    "3. Crea una gráfica del 2012 a la última observación de los precios de cierre para cada uno de los tickers\n",
    "\n",
    "![image.png](attachment:image.png)"
   ]
  },
  {
   "cell_type": "code",
   "execution_count": 183,
   "metadata": {},
   "outputs": [
    {
     "data": {
      "text/html": [
       "<div>\n",
       "<style scoped>\n",
       "    .dataframe tbody tr th:only-of-type {\n",
       "        vertical-align: middle;\n",
       "    }\n",
       "\n",
       "    .dataframe tbody tr th {\n",
       "        vertical-align: top;\n",
       "    }\n",
       "\n",
       "    .dataframe thead th {\n",
       "        text-align: right;\n",
       "    }\n",
       "</style>\n",
       "<table border=\"1\" class=\"dataframe\">\n",
       "  <thead>\n",
       "    <tr style=\"text-align: right;\">\n",
       "      <th></th>\n",
       "      <th>GOOGL</th>\n",
       "      <th>MSFT</th>\n",
       "      <th>AAPL</th>\n",
       "      <th>TSLA</th>\n",
       "      <th>AMZN</th>\n",
       "    </tr>\n",
       "  </thead>\n",
       "  <tbody>\n",
       "    <tr>\n",
       "      <td>2012-01-03</td>\n",
       "      <td>665.4100</td>\n",
       "      <td>26.7650</td>\n",
       "      <td>411.2300</td>\n",
       "      <td>28.0800</td>\n",
       "      <td>179.0300</td>\n",
       "    </tr>\n",
       "    <tr>\n",
       "      <td>2012-01-04</td>\n",
       "      <td>668.2800</td>\n",
       "      <td>27.4000</td>\n",
       "      <td>413.4400</td>\n",
       "      <td>27.7100</td>\n",
       "      <td>177.5100</td>\n",
       "    </tr>\n",
       "    <tr>\n",
       "      <td>2012-01-05</td>\n",
       "      <td>659.0100</td>\n",
       "      <td>27.6800</td>\n",
       "      <td>418.0300</td>\n",
       "      <td>27.1200</td>\n",
       "      <td>177.6100</td>\n",
       "    </tr>\n",
       "    <tr>\n",
       "      <td>2012-01-06</td>\n",
       "      <td>650.0200</td>\n",
       "      <td>28.1050</td>\n",
       "      <td>422.4000</td>\n",
       "      <td>26.9100</td>\n",
       "      <td>182.6100</td>\n",
       "    </tr>\n",
       "    <tr>\n",
       "      <td>2012-01-09</td>\n",
       "      <td>622.4600</td>\n",
       "      <td>27.7400</td>\n",
       "      <td>421.7300</td>\n",
       "      <td>27.2500</td>\n",
       "      <td>178.5600</td>\n",
       "    </tr>\n",
       "    <tr>\n",
       "      <td>...</td>\n",
       "      <td>...</td>\n",
       "      <td>...</td>\n",
       "      <td>...</td>\n",
       "      <td>...</td>\n",
       "      <td>...</td>\n",
       "    </tr>\n",
       "    <tr>\n",
       "      <td>2012-12-24</td>\n",
       "      <td>709.5000</td>\n",
       "      <td>27.0600</td>\n",
       "      <td>520.1680</td>\n",
       "      <td>34.2800</td>\n",
       "      <td>258.6200</td>\n",
       "    </tr>\n",
       "    <tr>\n",
       "      <td>2012-12-26</td>\n",
       "      <td>708.8700</td>\n",
       "      <td>26.8600</td>\n",
       "      <td>512.9995</td>\n",
       "      <td>33.5900</td>\n",
       "      <td>248.6314</td>\n",
       "    </tr>\n",
       "    <tr>\n",
       "      <td>2012-12-27</td>\n",
       "      <td>706.2900</td>\n",
       "      <td>26.9600</td>\n",
       "      <td>515.0600</td>\n",
       "      <td>33.6900</td>\n",
       "      <td>248.3100</td>\n",
       "    </tr>\n",
       "    <tr>\n",
       "      <td>2012-12-28</td>\n",
       "      <td>700.0100</td>\n",
       "      <td>26.5500</td>\n",
       "      <td>509.5892</td>\n",
       "      <td>33.2200</td>\n",
       "      <td>245.1800</td>\n",
       "    </tr>\n",
       "    <tr>\n",
       "      <td>2012-12-31</td>\n",
       "      <td>707.3800</td>\n",
       "      <td>26.7097</td>\n",
       "      <td>532.1729</td>\n",
       "      <td>33.8700</td>\n",
       "      <td>250.8700</td>\n",
       "    </tr>\n",
       "  </tbody>\n",
       "</table>\n",
       "<p>250 rows × 5 columns</p>\n",
       "</div>"
      ],
      "text/plain": [
       "               GOOGL     MSFT      AAPL     TSLA      AMZN\n",
       "2012-01-03  665.4100  26.7650  411.2300  28.0800  179.0300\n",
       "2012-01-04  668.2800  27.4000  413.4400  27.7100  177.5100\n",
       "2012-01-05  659.0100  27.6800  418.0300  27.1200  177.6100\n",
       "2012-01-06  650.0200  28.1050  422.4000  26.9100  182.6100\n",
       "2012-01-09  622.4600  27.7400  421.7300  27.2500  178.5600\n",
       "...              ...      ...       ...      ...       ...\n",
       "2012-12-24  709.5000  27.0600  520.1680  34.2800  258.6200\n",
       "2012-12-26  708.8700  26.8600  512.9995  33.5900  248.6314\n",
       "2012-12-27  706.2900  26.9600  515.0600  33.6900  248.3100\n",
       "2012-12-28  700.0100  26.5500  509.5892  33.2200  245.1800\n",
       "2012-12-31  707.3800  26.7097  532.1729  33.8700  250.8700\n",
       "\n",
       "[250 rows x 5 columns]"
      ]
     },
     "execution_count": 183,
     "metadata": {},
     "output_type": "execute_result"
    }
   ],
   "source": [
    "df = df.loc['2012-01-01':'2012-12-31']\n",
    "df"
   ]
  },
  {
   "cell_type": "markdown",
   "metadata": {},
   "source": [
    "**Para los siguientes ejercicios utiliza información del 2018 a la fecha**"
   ]
  },
  {
   "cell_type": "markdown",
   "metadata": {},
   "source": [
    "4. Calcula el rendimiento esperado diario de cada emisora"
   ]
  },
  {
   "cell_type": "code",
   "execution_count": null,
   "metadata": {},
   "outputs": [],
   "source": []
  },
  {
   "cell_type": "markdown",
   "metadata": {},
   "source": [
    "5. Calcula el rendimiento esperado anual de cada emisora"
   ]
  },
  {
   "cell_type": "code",
   "execution_count": null,
   "metadata": {},
   "outputs": [],
   "source": []
  },
  {
   "cell_type": "markdown",
   "metadata": {},
   "source": [
    "6. Dado los siguientes ponderadores, calcula el rendimiento esperado diario del portafolio"
   ]
  },
  {
   "cell_type": "code",
   "execution_count": null,
   "metadata": {},
   "outputs": [],
   "source": [
    "# Generación de ponderadores aleatorios\n",
    "seed(314)\n",
    "w = np.random.random(size=5)\n",
    "w = w / w.sum()"
   ]
  },
  {
   "cell_type": "code",
   "execution_count": null,
   "metadata": {},
   "outputs": [],
   "source": []
  },
  {
   "cell_type": "markdown",
   "metadata": {},
   "source": [
    "7. Dado ponderadores $w$, calcula el rendimiento esperado anual del portafolio"
   ]
  },
  {
   "cell_type": "code",
   "execution_count": null,
   "metadata": {},
   "outputs": [],
   "source": []
  },
  {
   "cell_type": "markdown",
   "metadata": {},
   "source": [
    "8. Calcula la matriz de variaza/covarianza"
   ]
  },
  {
   "cell_type": "code",
   "execution_count": null,
   "metadata": {},
   "outputs": [],
   "source": []
  },
  {
   "cell_type": "markdown",
   "metadata": {},
   "source": [
    "9. Calcula la varianza anual del portafolio"
   ]
  },
  {
   "cell_type": "code",
   "execution_count": null,
   "metadata": {},
   "outputs": [],
   "source": []
  },
  {
   "cell_type": "markdown",
   "metadata": {},
   "source": [
    "10. Calcula la desviación estándar anual del portafolio"
   ]
  },
  {
   "cell_type": "code",
   "execution_count": null,
   "metadata": {},
   "outputs": [],
   "source": []
  },
  {
   "cell_type": "markdown",
   "metadata": {},
   "source": [
    "11. Para cada ticker, calcula la distribución a posteriori de su rendimiento $\\mu_r$ asumiendo una distribución a priori normal y $\\sigma_r$ conocida (asume que $\\sigma_r$ es la desviación estándard muestral)\n",
    "\n",
    "    * Para cada ticker, ¿cuál es la probabilida de que $\\mu_r$ se positivo? ($\\forall r. p(\\mu_r) > 0$)\n",
    "    * Cómo elegiste los hyperparámetros de la distribución a priori?"
   ]
  },
  {
   "cell_type": "code",
   "execution_count": null,
   "metadata": {},
   "outputs": [],
   "source": []
  }
 ],
 "metadata": {
  "kernelspec": {
   "display_name": "Python 3",
   "language": "python",
   "name": "python3"
  },
  "language_info": {
   "codemirror_mode": {
    "name": "ipython",
    "version": 3
   },
   "file_extension": ".py",
   "mimetype": "text/x-python",
   "name": "python",
   "nbconvert_exporter": "python",
   "pygments_lexer": "ipython3",
   "version": "3.7.4"
  }
 },
 "nbformat": 4,
 "nbformat_minor": 2
}
